{
 "cells": [
  {
   "cell_type": "markdown",
   "id": "78f7e6ea-2792-4ee3-8f46-68e52b9c6646",
   "metadata": {},
   "source": [
    "# Flood Stats\n",
    "- Data: Gauge, Discharge, Rainfall\n",
    "- Note: Only STID RA101"
   ]
  },
  {
   "cell_type": "markdown",
   "id": "8b31651a-078e-48b8-8584-4d214a19f45a",
   "metadata": {},
   "source": [
    "## Goals\n",
    "10/31 Meeting\n",
    "- Clean data\n",
    "- Get daily max values (creek values)\n",
    "- Separate into 3 levels:\n",
    "    - Minor flood stage: 8.5 ft\n",
    "    - Moderate flood stage: 9.5 ft\n",
    "    - Major flood stage: 11 ft\n",
    "    - Minimum operating limit: 0.5 ft"
   ]
  },
  {
   "cell_type": "markdown",
   "id": "dd6e1ed3-b73d-48de-a2ef-b5cebdf8a40e",
   "metadata": {},
   "source": [
    "## Data Dictionary\n",
    "- date: date of measurement\n",
    "- hour: hour of measurement\n",
    "- stid: regional location\n",
    "- gauge: water level in feet\n",
    "- discharge: discharge level in cubic feet per second\n",
    "- rainfall: rainfall level in inches\n",
    "- rainfall_ft: rainfall level in feet"
   ]
  },
  {
   "cell_type": "markdown",
   "id": "c9ea0ac2-10d8-4e35-9a16-c4ffd2da816f",
   "metadata": {},
   "source": [
    "### Data Sources\n",
    "- [Gauge and Discharge](https://waterdata.usgs.gov/monitoring-location/01464000/#parameterCode=00060&startDT=2005-10-01&endDT=2022-10-18)\n",
    "- [Rainfall](https://njdep.rutgers.edu/rainfall/)"
   ]
  },
  {
   "cell_type": "markdown",
   "id": "e60f3eaf-3526-465d-998e-cf8670fee475",
   "metadata": {},
   "source": [
    "### Setup"
   ]
  },
  {
   "cell_type": "code",
   "execution_count": 102,
   "id": "0b462465-2d8a-4d7d-98e1-4844ffdfaef0",
   "metadata": {},
   "outputs": [],
   "source": [
    "import pandas as pd\n",
    "from pandas import DataFrame\n",
    "import numpy as np\n",
    "import seaborn as sns\n",
    "import matplotlib\n",
    "from matplotlib import pyplot as plt\n",
    "%matplotlib inline"
   ]
  },
  {
   "cell_type": "code",
   "execution_count": 103,
   "id": "c77fb79f-fcc5-431b-95d3-62bcb499009e",
   "metadata": {},
   "outputs": [],
   "source": [
    "# Display entire dataframe\n",
    "pd.set_option('display.max_rows', None)\n",
    "pd.set_option('display.max_columns', None)\n",
    "pd.set_option('display.width', None)"
   ]
  },
  {
   "cell_type": "code",
   "execution_count": 104,
   "id": "de6a1392-b85d-439e-8915-513ce13e9d8d",
   "metadata": {},
   "outputs": [],
   "source": [
    "# cd '/Users/shifraisaacs/Documents/Externship/cgi_flood_prediction_mitigation'"
   ]
  },
  {
   "cell_type": "markdown",
   "id": "772f7f55-49ba-4585-b899-6cb8b522a5e8",
   "metadata": {},
   "source": [
    "### Load Data"
   ]
  },
  {
   "cell_type": "code",
   "execution_count": 105,
   "id": "47a8a583-f9ca-4af1-ae25-e421684afd42",
   "metadata": {},
   "outputs": [
    {
     "name": "stdout",
     "output_type": "stream",
     "text": [
      "(131199, 7)\n"
     ]
    },
    {
     "data": {
      "text/html": [
       "<div>\n",
       "<style scoped>\n",
       "    .dataframe tbody tr th:only-of-type {\n",
       "        vertical-align: middle;\n",
       "    }\n",
       "\n",
       "    .dataframe tbody tr th {\n",
       "        vertical-align: top;\n",
       "    }\n",
       "\n",
       "    .dataframe thead th {\n",
       "        text-align: right;\n",
       "    }\n",
       "</style>\n",
       "<table border=\"1\" class=\"dataframe\">\n",
       "  <thead>\n",
       "    <tr style=\"text-align: right;\">\n",
       "      <th></th>\n",
       "      <th>agency_cd_x</th>\n",
       "      <th>guage</th>\n",
       "      <th>discharge</th>\n",
       "      <th>Date</th>\n",
       "      <th>hour</th>\n",
       "      <th>StID</th>\n",
       "      <th>rainfall</th>\n",
       "    </tr>\n",
       "  </thead>\n",
       "  <tbody>\n",
       "    <tr>\n",
       "      <th>0</th>\n",
       "      <td>USGS</td>\n",
       "      <td>2.39</td>\n",
       "      <td>23.2</td>\n",
       "      <td>2007-10-01</td>\n",
       "      <td>1</td>\n",
       "      <td>RA101</td>\n",
       "      <td>0.0</td>\n",
       "    </tr>\n",
       "    <tr>\n",
       "      <th>1</th>\n",
       "      <td>USGS</td>\n",
       "      <td>2.38</td>\n",
       "      <td>22.6</td>\n",
       "      <td>2007-10-01</td>\n",
       "      <td>2</td>\n",
       "      <td>RA101</td>\n",
       "      <td>0.0</td>\n",
       "    </tr>\n",
       "    <tr>\n",
       "      <th>2</th>\n",
       "      <td>USGS</td>\n",
       "      <td>2.37</td>\n",
       "      <td>21.9</td>\n",
       "      <td>2007-10-01</td>\n",
       "      <td>3</td>\n",
       "      <td>RA101</td>\n",
       "      <td>0.0</td>\n",
       "    </tr>\n",
       "    <tr>\n",
       "      <th>3</th>\n",
       "      <td>USGS</td>\n",
       "      <td>2.35</td>\n",
       "      <td>20.6</td>\n",
       "      <td>2007-10-01</td>\n",
       "      <td>4</td>\n",
       "      <td>RA101</td>\n",
       "      <td>0.0</td>\n",
       "    </tr>\n",
       "    <tr>\n",
       "      <th>4</th>\n",
       "      <td>USGS</td>\n",
       "      <td>2.32</td>\n",
       "      <td>18.9</td>\n",
       "      <td>2007-10-01</td>\n",
       "      <td>5</td>\n",
       "      <td>RA101</td>\n",
       "      <td>0.0</td>\n",
       "    </tr>\n",
       "  </tbody>\n",
       "</table>\n",
       "</div>"
      ],
      "text/plain": [
       "  agency_cd_x  guage  discharge        Date  hour   StID  rainfall\n",
       "0        USGS   2.39       23.2  2007-10-01     1  RA101       0.0\n",
       "1        USGS   2.38       22.6  2007-10-01     2  RA101       0.0\n",
       "2        USGS   2.37       21.9  2007-10-01     3  RA101       0.0\n",
       "3        USGS   2.35       20.6  2007-10-01     4  RA101       0.0\n",
       "4        USGS   2.32       18.9  2007-10-01     5  RA101       0.0"
      ]
     },
     "execution_count": 105,
     "metadata": {},
     "output_type": "execute_result"
    }
   ],
   "source": [
    "combined = pd.read_csv('combined_rainfall_discharge_gauge.csv', index_col=0)\n",
    "print(combined.shape)\n",
    "combined.head()"
   ]
  },
  {
   "cell_type": "markdown",
   "id": "199bd0d8-633a-4875-a59c-f7ea20463053",
   "metadata": {},
   "source": [
    "### Data Cleaning and Manipulation"
   ]
  },
  {
   "cell_type": "code",
   "execution_count": 106,
   "id": "ee835fd5-cfc0-4de8-8549-9abc3e9e0f56",
   "metadata": {},
   "outputs": [
    {
     "data": {
      "text/html": [
       "<div>\n",
       "<style scoped>\n",
       "    .dataframe tbody tr th:only-of-type {\n",
       "        vertical-align: middle;\n",
       "    }\n",
       "\n",
       "    .dataframe tbody tr th {\n",
       "        vertical-align: top;\n",
       "    }\n",
       "\n",
       "    .dataframe thead th {\n",
       "        text-align: right;\n",
       "    }\n",
       "</style>\n",
       "<table border=\"1\" class=\"dataframe\">\n",
       "  <thead>\n",
       "    <tr style=\"text-align: right;\">\n",
       "      <th></th>\n",
       "      <th>date</th>\n",
       "      <th>stid</th>\n",
       "      <th>gauge</th>\n",
       "      <th>discharge</th>\n",
       "      <th>rainfall_inches</th>\n",
       "    </tr>\n",
       "  </thead>\n",
       "  <tbody>\n",
       "    <tr>\n",
       "      <th>0</th>\n",
       "      <td>2007-10-01</td>\n",
       "      <td>RA101</td>\n",
       "      <td>2.39</td>\n",
       "      <td>23.2</td>\n",
       "      <td>0.0</td>\n",
       "    </tr>\n",
       "    <tr>\n",
       "      <th>1</th>\n",
       "      <td>2007-10-01</td>\n",
       "      <td>RA101</td>\n",
       "      <td>2.38</td>\n",
       "      <td>22.6</td>\n",
       "      <td>0.0</td>\n",
       "    </tr>\n",
       "    <tr>\n",
       "      <th>2</th>\n",
       "      <td>2007-10-01</td>\n",
       "      <td>RA101</td>\n",
       "      <td>2.37</td>\n",
       "      <td>21.9</td>\n",
       "      <td>0.0</td>\n",
       "    </tr>\n",
       "    <tr>\n",
       "      <th>3</th>\n",
       "      <td>2007-10-01</td>\n",
       "      <td>RA101</td>\n",
       "      <td>2.35</td>\n",
       "      <td>20.6</td>\n",
       "      <td>0.0</td>\n",
       "    </tr>\n",
       "    <tr>\n",
       "      <th>4</th>\n",
       "      <td>2007-10-01</td>\n",
       "      <td>RA101</td>\n",
       "      <td>2.32</td>\n",
       "      <td>18.9</td>\n",
       "      <td>0.0</td>\n",
       "    </tr>\n",
       "  </tbody>\n",
       "</table>\n",
       "</div>"
      ],
      "text/plain": [
       "         date   stid  gauge  discharge  rainfall_inches\n",
       "0  2007-10-01  RA101   2.39       23.2              0.0\n",
       "1  2007-10-01  RA101   2.38       22.6              0.0\n",
       "2  2007-10-01  RA101   2.37       21.9              0.0\n",
       "3  2007-10-01  RA101   2.35       20.6              0.0\n",
       "4  2007-10-01  RA101   2.32       18.9              0.0"
      ]
     },
     "execution_count": 106,
     "metadata": {},
     "output_type": "execute_result"
    }
   ],
   "source": [
    "# Rearrange columns and fix spelling mistake\n",
    "combined.columns = combined.columns.str.lower()\n",
    "combined = combined[['date', 'stid', 'guage', 'discharge', 'rainfall']]\n",
    "combined = combined.rename(columns={'guage': 'gauge', 'rainfall': 'rainfall_inches'})\n",
    "combined.head()"
   ]
  },
  {
   "cell_type": "code",
   "execution_count": 107,
   "id": "3f3c961c-b2d2-46c0-9ecd-88827902ef40",
   "metadata": {},
   "outputs": [],
   "source": [
    "combined['rainfall_ft'] = round(combined['rainfall_inches']/12, 2)"
   ]
  },
  {
   "cell_type": "code",
   "execution_count": 108,
   "id": "3673d693-ed41-4218-9db6-ccf8d2831edc",
   "metadata": {},
   "outputs": [],
   "source": [
    "combined['date'] = pd.to_datetime(combined['date'], infer_datetime_format=True)"
   ]
  },
  {
   "cell_type": "code",
   "execution_count": 109,
   "id": "8a674dd1-f914-4a5c-83d9-2b3edeec221f",
   "metadata": {},
   "outputs": [
    {
     "name": "stdout",
     "output_type": "stream",
     "text": [
      "<class 'pandas.core.frame.DataFrame'>\n",
      "Int64Index: 131199 entries, 0 to 131198\n",
      "Data columns (total 6 columns):\n",
      " #   Column           Non-Null Count   Dtype         \n",
      "---  ------           --------------   -----         \n",
      " 0   date             131199 non-null  datetime64[ns]\n",
      " 1   stid             131199 non-null  object        \n",
      " 2   gauge            131199 non-null  float64       \n",
      " 3   discharge        131199 non-null  float64       \n",
      " 4   rainfall_inches  131199 non-null  float64       \n",
      " 5   rainfall_ft      131199 non-null  float64       \n",
      "dtypes: datetime64[ns](1), float64(4), object(1)\n",
      "memory usage: 7.0+ MB\n"
     ]
    }
   ],
   "source": [
    "combined.info()"
   ]
  },
  {
   "cell_type": "code",
   "execution_count": 110,
   "id": "fb63ce50-2b81-41c0-aa7d-cefa6a078e93",
   "metadata": {},
   "outputs": [
    {
     "data": {
      "text/plain": [
       "date               0\n",
       "stid               0\n",
       "gauge              0\n",
       "discharge          0\n",
       "rainfall_inches    0\n",
       "rainfall_ft        0\n",
       "dtype: int64"
      ]
     },
     "execution_count": 110,
     "metadata": {},
     "output_type": "execute_result"
    }
   ],
   "source": [
    "# Confirm no null values\n",
    "combined.isnull().sum()"
   ]
  },
  {
   "cell_type": "markdown",
   "id": "0cf26771-3abd-4b94-a9cf-da7eddfc46a6",
   "metadata": {
    "tags": []
   },
   "source": [
    "### Descriptive Stats"
   ]
  },
  {
   "cell_type": "code",
   "execution_count": 111,
   "id": "b2d53f9e-aea0-41ab-99ef-baed3b193760",
   "metadata": {},
   "outputs": [
    {
     "data": {
      "text/html": [
       "<div>\n",
       "<style scoped>\n",
       "    .dataframe tbody tr th:only-of-type {\n",
       "        vertical-align: middle;\n",
       "    }\n",
       "\n",
       "    .dataframe tbody tr th {\n",
       "        vertical-align: top;\n",
       "    }\n",
       "\n",
       "    .dataframe thead th {\n",
       "        text-align: right;\n",
       "    }\n",
       "</style>\n",
       "<table border=\"1\" class=\"dataframe\">\n",
       "  <thead>\n",
       "    <tr style=\"text-align: right;\">\n",
       "      <th></th>\n",
       "      <th>gauge</th>\n",
       "      <th>discharge</th>\n",
       "      <th>rainfall_inches</th>\n",
       "      <th>rainfall_ft</th>\n",
       "    </tr>\n",
       "  </thead>\n",
       "  <tbody>\n",
       "    <tr>\n",
       "      <th>count</th>\n",
       "      <td>131199.000000</td>\n",
       "      <td>131199.000000</td>\n",
       "      <td>131199.000000</td>\n",
       "      <td>131199.000000</td>\n",
       "    </tr>\n",
       "    <tr>\n",
       "      <th>mean</th>\n",
       "      <td>3.242591</td>\n",
       "      <td>160.276956</td>\n",
       "      <td>0.005587</td>\n",
       "      <td>0.000373</td>\n",
       "    </tr>\n",
       "    <tr>\n",
       "      <th>std</th>\n",
       "      <td>0.758934</td>\n",
       "      <td>213.167199</td>\n",
       "      <td>0.034964</td>\n",
       "      <td>0.002962</td>\n",
       "    </tr>\n",
       "    <tr>\n",
       "      <th>min</th>\n",
       "      <td>2.170000</td>\n",
       "      <td>10.100000</td>\n",
       "      <td>0.000000</td>\n",
       "      <td>0.000000</td>\n",
       "    </tr>\n",
       "    <tr>\n",
       "      <th>25%</th>\n",
       "      <td>2.770000</td>\n",
       "      <td>58.400000</td>\n",
       "      <td>0.000000</td>\n",
       "      <td>0.000000</td>\n",
       "    </tr>\n",
       "    <tr>\n",
       "      <th>50%</th>\n",
       "      <td>3.080000</td>\n",
       "      <td>103.000000</td>\n",
       "      <td>0.000000</td>\n",
       "      <td>0.000000</td>\n",
       "    </tr>\n",
       "    <tr>\n",
       "      <th>75%</th>\n",
       "      <td>3.470000</td>\n",
       "      <td>179.000000</td>\n",
       "      <td>0.000000</td>\n",
       "      <td>0.000000</td>\n",
       "    </tr>\n",
       "    <tr>\n",
       "      <th>max</th>\n",
       "      <td>15.120000</td>\n",
       "      <td>5820.000000</td>\n",
       "      <td>1.700000</td>\n",
       "      <td>0.140000</td>\n",
       "    </tr>\n",
       "  </tbody>\n",
       "</table>\n",
       "</div>"
      ],
      "text/plain": [
       "               gauge      discharge  rainfall_inches    rainfall_ft\n",
       "count  131199.000000  131199.000000    131199.000000  131199.000000\n",
       "mean        3.242591     160.276956         0.005587       0.000373\n",
       "std         0.758934     213.167199         0.034964       0.002962\n",
       "min         2.170000      10.100000         0.000000       0.000000\n",
       "25%         2.770000      58.400000         0.000000       0.000000\n",
       "50%         3.080000     103.000000         0.000000       0.000000\n",
       "75%         3.470000     179.000000         0.000000       0.000000\n",
       "max        15.120000    5820.000000         1.700000       0.140000"
      ]
     },
     "execution_count": 111,
     "metadata": {},
     "output_type": "execute_result"
    }
   ],
   "source": [
    "combined.describe()"
   ]
  },
  {
   "cell_type": "markdown",
   "id": "eb558117-0bfa-4b83-aaa8-47aa712924d3",
   "metadata": {},
   "source": [
    "### Correlational Analysis\n",
    "Strong correlation between gauge and discharge; minimal correlation with rainfall"
   ]
  },
  {
   "cell_type": "code",
   "execution_count": 112,
   "id": "c8d65dff-2693-45cd-92ff-9c23c45d3134",
   "metadata": {},
   "outputs": [
    {
     "data": {
      "text/html": [
       "<div>\n",
       "<style scoped>\n",
       "    .dataframe tbody tr th:only-of-type {\n",
       "        vertical-align: middle;\n",
       "    }\n",
       "\n",
       "    .dataframe tbody tr th {\n",
       "        vertical-align: top;\n",
       "    }\n",
       "\n",
       "    .dataframe thead th {\n",
       "        text-align: right;\n",
       "    }\n",
       "</style>\n",
       "<table border=\"1\" class=\"dataframe\">\n",
       "  <thead>\n",
       "    <tr style=\"text-align: right;\">\n",
       "      <th></th>\n",
       "      <th>gauge</th>\n",
       "      <th>discharge</th>\n",
       "      <th>rainfall_inches</th>\n",
       "      <th>rainfall_ft</th>\n",
       "    </tr>\n",
       "  </thead>\n",
       "  <tbody>\n",
       "    <tr>\n",
       "      <th>gauge</th>\n",
       "      <td>1.000000</td>\n",
       "      <td>0.951102</td>\n",
       "      <td>0.174789</td>\n",
       "      <td>0.159878</td>\n",
       "    </tr>\n",
       "    <tr>\n",
       "      <th>discharge</th>\n",
       "      <td>0.951102</td>\n",
       "      <td>1.000000</td>\n",
       "      <td>0.166233</td>\n",
       "      <td>0.152832</td>\n",
       "    </tr>\n",
       "    <tr>\n",
       "      <th>rainfall_inches</th>\n",
       "      <td>0.174789</td>\n",
       "      <td>0.166233</td>\n",
       "      <td>1.000000</td>\n",
       "      <td>0.967911</td>\n",
       "    </tr>\n",
       "    <tr>\n",
       "      <th>rainfall_ft</th>\n",
       "      <td>0.159878</td>\n",
       "      <td>0.152832</td>\n",
       "      <td>0.967911</td>\n",
       "      <td>1.000000</td>\n",
       "    </tr>\n",
       "  </tbody>\n",
       "</table>\n",
       "</div>"
      ],
      "text/plain": [
       "                    gauge  discharge  rainfall_inches  rainfall_ft\n",
       "gauge            1.000000   0.951102         0.174789     0.159878\n",
       "discharge        0.951102   1.000000         0.166233     0.152832\n",
       "rainfall_inches  0.174789   0.166233         1.000000     0.967911\n",
       "rainfall_ft      0.159878   0.152832         0.967911     1.000000"
      ]
     },
     "execution_count": 112,
     "metadata": {},
     "output_type": "execute_result"
    }
   ],
   "source": [
    "combined.corr()"
   ]
  },
  {
   "cell_type": "markdown",
   "id": "ebbac0f5-aabf-48bd-aacb-ee6c54095ddc",
   "metadata": {},
   "source": [
    "### Group data to get max levels for each day"
   ]
  },
  {
   "cell_type": "code",
   "execution_count": 113,
   "id": "28c303c4-0dd2-4843-98d8-a77cc1c9c62c",
   "metadata": {},
   "outputs": [
    {
     "data": {
      "text/html": [
       "<div>\n",
       "<style scoped>\n",
       "    .dataframe tbody tr th:only-of-type {\n",
       "        vertical-align: middle;\n",
       "    }\n",
       "\n",
       "    .dataframe tbody tr th {\n",
       "        vertical-align: top;\n",
       "    }\n",
       "\n",
       "    .dataframe thead th {\n",
       "        text-align: right;\n",
       "    }\n",
       "</style>\n",
       "<table border=\"1\" class=\"dataframe\">\n",
       "  <thead>\n",
       "    <tr style=\"text-align: right;\">\n",
       "      <th></th>\n",
       "      <th>date</th>\n",
       "      <th>stid</th>\n",
       "      <th>gauge</th>\n",
       "      <th>discharge</th>\n",
       "      <th>rainfall_inches</th>\n",
       "      <th>rainfall_ft</th>\n",
       "    </tr>\n",
       "  </thead>\n",
       "  <tbody>\n",
       "    <tr>\n",
       "      <th>0</th>\n",
       "      <td>2007-10-01</td>\n",
       "      <td>RA101</td>\n",
       "      <td>2.40</td>\n",
       "      <td>23.9</td>\n",
       "      <td>0.0</td>\n",
       "      <td>0.0</td>\n",
       "    </tr>\n",
       "    <tr>\n",
       "      <th>1</th>\n",
       "      <td>2007-10-02</td>\n",
       "      <td>RA101</td>\n",
       "      <td>2.39</td>\n",
       "      <td>23.2</td>\n",
       "      <td>0.0</td>\n",
       "      <td>0.0</td>\n",
       "    </tr>\n",
       "    <tr>\n",
       "      <th>2</th>\n",
       "      <td>2007-10-03</td>\n",
       "      <td>RA101</td>\n",
       "      <td>2.39</td>\n",
       "      <td>23.2</td>\n",
       "      <td>0.0</td>\n",
       "      <td>0.0</td>\n",
       "    </tr>\n",
       "    <tr>\n",
       "      <th>3</th>\n",
       "      <td>2007-10-04</td>\n",
       "      <td>RA101</td>\n",
       "      <td>2.39</td>\n",
       "      <td>23.2</td>\n",
       "      <td>0.0</td>\n",
       "      <td>0.0</td>\n",
       "    </tr>\n",
       "    <tr>\n",
       "      <th>4</th>\n",
       "      <td>2007-10-05</td>\n",
       "      <td>RA101</td>\n",
       "      <td>2.42</td>\n",
       "      <td>25.2</td>\n",
       "      <td>0.0</td>\n",
       "      <td>0.0</td>\n",
       "    </tr>\n",
       "  </tbody>\n",
       "</table>\n",
       "</div>"
      ],
      "text/plain": [
       "        date   stid  gauge  discharge  rainfall_inches  rainfall_ft\n",
       "0 2007-10-01  RA101   2.40       23.9              0.0          0.0\n",
       "1 2007-10-02  RA101   2.39       23.2              0.0          0.0\n",
       "2 2007-10-03  RA101   2.39       23.2              0.0          0.0\n",
       "3 2007-10-04  RA101   2.39       23.2              0.0          0.0\n",
       "4 2007-10-05  RA101   2.42       25.2              0.0          0.0"
      ]
     },
     "execution_count": 113,
     "metadata": {},
     "output_type": "execute_result"
    }
   ],
   "source": [
    "daily_max = combined.groupby(by='date').max().reset_index()\n",
    "daily_max.head()"
   ]
  },
  {
   "cell_type": "code",
   "execution_count": 114,
   "id": "4380a227-1949-45c4-b0f0-904d5a19b719",
   "metadata": {},
   "outputs": [
    {
     "data": {
      "text/html": [
       "<div>\n",
       "<style scoped>\n",
       "    .dataframe tbody tr th:only-of-type {\n",
       "        vertical-align: middle;\n",
       "    }\n",
       "\n",
       "    .dataframe tbody tr th {\n",
       "        vertical-align: top;\n",
       "    }\n",
       "\n",
       "    .dataframe thead th {\n",
       "        text-align: right;\n",
       "    }\n",
       "</style>\n",
       "<table border=\"1\" class=\"dataframe\">\n",
       "  <thead>\n",
       "    <tr style=\"text-align: right;\">\n",
       "      <th></th>\n",
       "      <th>gauge</th>\n",
       "      <th>discharge</th>\n",
       "      <th>rainfall_inches</th>\n",
       "      <th>rainfall_ft</th>\n",
       "    </tr>\n",
       "  </thead>\n",
       "  <tbody>\n",
       "    <tr>\n",
       "      <th>count</th>\n",
       "      <td>5477.000000</td>\n",
       "      <td>5477.000000</td>\n",
       "      <td>5477.000000</td>\n",
       "      <td>5477.000000</td>\n",
       "    </tr>\n",
       "    <tr>\n",
       "      <th>mean</th>\n",
       "      <td>3.464241</td>\n",
       "      <td>218.041172</td>\n",
       "      <td>0.049418</td>\n",
       "      <td>0.003851</td>\n",
       "    </tr>\n",
       "    <tr>\n",
       "      <th>std</th>\n",
       "      <td>0.998043</td>\n",
       "      <td>304.062274</td>\n",
       "      <td>0.126328</td>\n",
       "      <td>0.010730</td>\n",
       "    </tr>\n",
       "    <tr>\n",
       "      <th>min</th>\n",
       "      <td>2.320000</td>\n",
       "      <td>17.000000</td>\n",
       "      <td>0.000000</td>\n",
       "      <td>0.000000</td>\n",
       "    </tr>\n",
       "    <tr>\n",
       "      <th>25%</th>\n",
       "      <td>2.850000</td>\n",
       "      <td>69.300000</td>\n",
       "      <td>0.000000</td>\n",
       "      <td>0.000000</td>\n",
       "    </tr>\n",
       "    <tr>\n",
       "      <th>50%</th>\n",
       "      <td>3.190000</td>\n",
       "      <td>123.000000</td>\n",
       "      <td>0.000000</td>\n",
       "      <td>0.000000</td>\n",
       "    </tr>\n",
       "    <tr>\n",
       "      <th>75%</th>\n",
       "      <td>3.740000</td>\n",
       "      <td>242.000000</td>\n",
       "      <td>0.040000</td>\n",
       "      <td>0.000000</td>\n",
       "    </tr>\n",
       "    <tr>\n",
       "      <th>max</th>\n",
       "      <td>15.120000</td>\n",
       "      <td>5820.000000</td>\n",
       "      <td>1.700000</td>\n",
       "      <td>0.140000</td>\n",
       "    </tr>\n",
       "  </tbody>\n",
       "</table>\n",
       "</div>"
      ],
      "text/plain": [
       "             gauge    discharge  rainfall_inches  rainfall_ft\n",
       "count  5477.000000  5477.000000      5477.000000  5477.000000\n",
       "mean      3.464241   218.041172         0.049418     0.003851\n",
       "std       0.998043   304.062274         0.126328     0.010730\n",
       "min       2.320000    17.000000         0.000000     0.000000\n",
       "25%       2.850000    69.300000         0.000000     0.000000\n",
       "50%       3.190000   123.000000         0.000000     0.000000\n",
       "75%       3.740000   242.000000         0.040000     0.000000\n",
       "max      15.120000  5820.000000         1.700000     0.140000"
      ]
     },
     "execution_count": 114,
     "metadata": {},
     "output_type": "execute_result"
    }
   ],
   "source": [
    "daily_max.describe()"
   ]
  },
  {
   "cell_type": "code",
   "execution_count": 115,
   "id": "e1528c9f-3fb8-4c5f-867b-74a79e472faa",
   "metadata": {},
   "outputs": [],
   "source": [
    "daily_max.to_csv('Data/Daily_Max_Vals.csv')"
   ]
  },
  {
   "cell_type": "markdown",
   "id": "bd68e1f7-883c-444b-a3a6-772be8e65c34",
   "metadata": {},
   "source": [
    "## Create data subsets"
   ]
  },
  {
   "cell_type": "code",
   "execution_count": 116,
   "id": "810a61ad-1a76-44b1-8cbc-df8070526354",
   "metadata": {},
   "outputs": [
    {
     "name": "stdout",
     "output_type": "stream",
     "text": [
      "(5477, 6)\n"
     ]
    },
    {
     "data": {
      "text/html": [
       "<div>\n",
       "<style scoped>\n",
       "    .dataframe tbody tr th:only-of-type {\n",
       "        vertical-align: middle;\n",
       "    }\n",
       "\n",
       "    .dataframe tbody tr th {\n",
       "        vertical-align: top;\n",
       "    }\n",
       "\n",
       "    .dataframe thead th {\n",
       "        text-align: right;\n",
       "    }\n",
       "</style>\n",
       "<table border=\"1\" class=\"dataframe\">\n",
       "  <thead>\n",
       "    <tr style=\"text-align: right;\">\n",
       "      <th></th>\n",
       "      <th>date</th>\n",
       "      <th>stid</th>\n",
       "      <th>gauge</th>\n",
       "      <th>discharge</th>\n",
       "      <th>rainfall_inches</th>\n",
       "      <th>rainfall_ft</th>\n",
       "    </tr>\n",
       "  </thead>\n",
       "  <tbody>\n",
       "    <tr>\n",
       "      <th>0</th>\n",
       "      <td>2007-10-01</td>\n",
       "      <td>RA101</td>\n",
       "      <td>2.40</td>\n",
       "      <td>23.9</td>\n",
       "      <td>0.0</td>\n",
       "      <td>0.0</td>\n",
       "    </tr>\n",
       "    <tr>\n",
       "      <th>1</th>\n",
       "      <td>2007-10-02</td>\n",
       "      <td>RA101</td>\n",
       "      <td>2.39</td>\n",
       "      <td>23.2</td>\n",
       "      <td>0.0</td>\n",
       "      <td>0.0</td>\n",
       "    </tr>\n",
       "    <tr>\n",
       "      <th>2</th>\n",
       "      <td>2007-10-03</td>\n",
       "      <td>RA101</td>\n",
       "      <td>2.39</td>\n",
       "      <td>23.2</td>\n",
       "      <td>0.0</td>\n",
       "      <td>0.0</td>\n",
       "    </tr>\n",
       "    <tr>\n",
       "      <th>3</th>\n",
       "      <td>2007-10-04</td>\n",
       "      <td>RA101</td>\n",
       "      <td>2.39</td>\n",
       "      <td>23.2</td>\n",
       "      <td>0.0</td>\n",
       "      <td>0.0</td>\n",
       "    </tr>\n",
       "    <tr>\n",
       "      <th>4</th>\n",
       "      <td>2007-10-05</td>\n",
       "      <td>RA101</td>\n",
       "      <td>2.42</td>\n",
       "      <td>25.2</td>\n",
       "      <td>0.0</td>\n",
       "      <td>0.0</td>\n",
       "    </tr>\n",
       "  </tbody>\n",
       "</table>\n",
       "</div>"
      ],
      "text/plain": [
       "        date   stid  gauge  discharge  rainfall_inches  rainfall_ft\n",
       "0 2007-10-01  RA101   2.40       23.9              0.0          0.0\n",
       "1 2007-10-02  RA101   2.39       23.2              0.0          0.0\n",
       "2 2007-10-03  RA101   2.39       23.2              0.0          0.0\n",
       "3 2007-10-04  RA101   2.39       23.2              0.0          0.0\n",
       "4 2007-10-05  RA101   2.42       25.2              0.0          0.0"
      ]
     },
     "execution_count": 116,
     "metadata": {},
     "output_type": "execute_result"
    }
   ],
   "source": [
    "# Minimum operating limit\n",
    "op_limit = daily_max[daily_max['gauge'] >= 0.5]\n",
    "print(op_limit.shape)\n",
    "op_limit.head()"
   ]
  },
  {
   "cell_type": "code",
   "execution_count": 117,
   "id": "ecdd0e6a-ce81-4d78-a6dc-3f2435450201",
   "metadata": {},
   "outputs": [
    {
     "name": "stdout",
     "output_type": "stream",
     "text": [
      "(9, 6)\n"
     ]
    },
    {
     "data": {
      "text/html": [
       "<div>\n",
       "<style scoped>\n",
       "    .dataframe tbody tr th:only-of-type {\n",
       "        vertical-align: middle;\n",
       "    }\n",
       "\n",
       "    .dataframe tbody tr th {\n",
       "        vertical-align: top;\n",
       "    }\n",
       "\n",
       "    .dataframe thead th {\n",
       "        text-align: right;\n",
       "    }\n",
       "</style>\n",
       "<table border=\"1\" class=\"dataframe\">\n",
       "  <thead>\n",
       "    <tr style=\"text-align: right;\">\n",
       "      <th></th>\n",
       "      <th>date</th>\n",
       "      <th>stid</th>\n",
       "      <th>gauge</th>\n",
       "      <th>discharge</th>\n",
       "      <th>rainfall_inches</th>\n",
       "      <th>rainfall_ft</th>\n",
       "    </tr>\n",
       "  </thead>\n",
       "  <tbody>\n",
       "    <tr>\n",
       "      <th>667</th>\n",
       "      <td>2009-08-02</td>\n",
       "      <td>RA101</td>\n",
       "      <td>8.93</td>\n",
       "      <td>1820.0</td>\n",
       "      <td>1.10</td>\n",
       "      <td>0.09</td>\n",
       "    </tr>\n",
       "    <tr>\n",
       "      <th>795</th>\n",
       "      <td>2009-12-09</td>\n",
       "      <td>RA101</td>\n",
       "      <td>8.82</td>\n",
       "      <td>1990.0</td>\n",
       "      <td>0.51</td>\n",
       "      <td>0.04</td>\n",
       "    </tr>\n",
       "    <tr>\n",
       "      <th>888</th>\n",
       "      <td>2010-03-13</td>\n",
       "      <td>RA101</td>\n",
       "      <td>9.36</td>\n",
       "      <td>2450.0</td>\n",
       "      <td>0.34</td>\n",
       "      <td>0.03</td>\n",
       "    </tr>\n",
       "    <tr>\n",
       "      <th>889</th>\n",
       "      <td>2010-03-14</td>\n",
       "      <td>RA101</td>\n",
       "      <td>9.35</td>\n",
       "      <td>2440.0</td>\n",
       "      <td>0.28</td>\n",
       "      <td>0.02</td>\n",
       "    </tr>\n",
       "    <tr>\n",
       "      <th>905</th>\n",
       "      <td>2010-03-30</td>\n",
       "      <td>RA101</td>\n",
       "      <td>8.98</td>\n",
       "      <td>2260.0</td>\n",
       "      <td>0.30</td>\n",
       "      <td>0.02</td>\n",
       "    </tr>\n",
       "  </tbody>\n",
       "</table>\n",
       "</div>"
      ],
      "text/plain": [
       "          date   stid  gauge  discharge  rainfall_inches  rainfall_ft\n",
       "667 2009-08-02  RA101   8.93     1820.0             1.10         0.09\n",
       "795 2009-12-09  RA101   8.82     1990.0             0.51         0.04\n",
       "888 2010-03-13  RA101   9.36     2450.0             0.34         0.03\n",
       "889 2010-03-14  RA101   9.35     2440.0             0.28         0.02\n",
       "905 2010-03-30  RA101   8.98     2260.0             0.30         0.02"
      ]
     },
     "execution_count": 117,
     "metadata": {},
     "output_type": "execute_result"
    }
   ],
   "source": [
    "# Minor flood stage\n",
    "minor_filter = np.where((daily_max['gauge'] >= 8.5) & (daily_max['gauge'] < 9.5))\n",
    "minor_flood = daily_max.loc[minor_filter]\n",
    "print(minor_flood.shape)\n",
    "minor_flood.head()"
   ]
  },
  {
   "cell_type": "code",
   "execution_count": 118,
   "id": "c920c267-db3e-4149-a41f-3aeb1aaff354",
   "metadata": {},
   "outputs": [
    {
     "name": "stdout",
     "output_type": "stream",
     "text": [
      "(9, 6)\n"
     ]
    },
    {
     "data": {
      "text/html": [
       "<div>\n",
       "<style scoped>\n",
       "    .dataframe tbody tr th:only-of-type {\n",
       "        vertical-align: middle;\n",
       "    }\n",
       "\n",
       "    .dataframe tbody tr th {\n",
       "        vertical-align: top;\n",
       "    }\n",
       "\n",
       "    .dataframe thead th {\n",
       "        text-align: right;\n",
       "    }\n",
       "</style>\n",
       "<table border=\"1\" class=\"dataframe\">\n",
       "  <thead>\n",
       "    <tr style=\"text-align: right;\">\n",
       "      <th></th>\n",
       "      <th>date</th>\n",
       "      <th>stid</th>\n",
       "      <th>gauge</th>\n",
       "      <th>discharge</th>\n",
       "      <th>rainfall_inches</th>\n",
       "      <th>rainfall_ft</th>\n",
       "    </tr>\n",
       "  </thead>\n",
       "  <tbody>\n",
       "    <tr>\n",
       "      <th>687</th>\n",
       "      <td>2009-08-22</td>\n",
       "      <td>RA101</td>\n",
       "      <td>9.74</td>\n",
       "      <td>2170.0</td>\n",
       "      <td>1.70</td>\n",
       "      <td>0.14</td>\n",
       "    </tr>\n",
       "    <tr>\n",
       "      <th>688</th>\n",
       "      <td>2009-08-23</td>\n",
       "      <td>RA101</td>\n",
       "      <td>10.63</td>\n",
       "      <td>2560.0</td>\n",
       "      <td>0.02</td>\n",
       "      <td>0.00</td>\n",
       "    </tr>\n",
       "    <tr>\n",
       "      <th>1287</th>\n",
       "      <td>2011-04-17</td>\n",
       "      <td>RA101</td>\n",
       "      <td>9.63</td>\n",
       "      <td>2620.0</td>\n",
       "      <td>0.38</td>\n",
       "      <td>0.03</td>\n",
       "    </tr>\n",
       "    <tr>\n",
       "      <th>1422</th>\n",
       "      <td>2011-08-30</td>\n",
       "      <td>RA101</td>\n",
       "      <td>10.10</td>\n",
       "      <td>2870.0</td>\n",
       "      <td>0.00</td>\n",
       "      <td>0.00</td>\n",
       "    </tr>\n",
       "    <tr>\n",
       "      <th>2387</th>\n",
       "      <td>2014-04-30</td>\n",
       "      <td>RA101</td>\n",
       "      <td>10.96</td>\n",
       "      <td>3350.0</td>\n",
       "      <td>0.48</td>\n",
       "      <td>0.04</td>\n",
       "    </tr>\n",
       "  </tbody>\n",
       "</table>\n",
       "</div>"
      ],
      "text/plain": [
       "           date   stid  gauge  discharge  rainfall_inches  rainfall_ft\n",
       "687  2009-08-22  RA101   9.74     2170.0             1.70         0.14\n",
       "688  2009-08-23  RA101  10.63     2560.0             0.02         0.00\n",
       "1287 2011-04-17  RA101   9.63     2620.0             0.38         0.03\n",
       "1422 2011-08-30  RA101  10.10     2870.0             0.00         0.00\n",
       "2387 2014-04-30  RA101  10.96     3350.0             0.48         0.04"
      ]
     },
     "execution_count": 118,
     "metadata": {},
     "output_type": "execute_result"
    }
   ],
   "source": [
    "# Moderate flood stage\n",
    "moderate_filter = np.where((daily_max['gauge'] >= 9.5) & (daily_max['gauge'] < 11))\n",
    "moderate_flood = daily_max.loc[moderate_filter]\n",
    "print(moderate_flood.shape)\n",
    "moderate_flood.head()"
   ]
  },
  {
   "cell_type": "code",
   "execution_count": 119,
   "id": "2f525379-0cc2-4292-b9ce-82916dfe0fad",
   "metadata": {},
   "outputs": [
    {
     "name": "stdout",
     "output_type": "stream",
     "text": [
      "(4, 6)\n"
     ]
    },
    {
     "data": {
      "text/html": [
       "<div>\n",
       "<style scoped>\n",
       "    .dataframe tbody tr th:only-of-type {\n",
       "        vertical-align: middle;\n",
       "    }\n",
       "\n",
       "    .dataframe tbody tr th {\n",
       "        vertical-align: top;\n",
       "    }\n",
       "\n",
       "    .dataframe thead th {\n",
       "        text-align: right;\n",
       "    }\n",
       "</style>\n",
       "<table border=\"1\" class=\"dataframe\">\n",
       "  <thead>\n",
       "    <tr style=\"text-align: right;\">\n",
       "      <th></th>\n",
       "      <th>date</th>\n",
       "      <th>stid</th>\n",
       "      <th>gauge</th>\n",
       "      <th>discharge</th>\n",
       "      <th>rainfall_inches</th>\n",
       "      <th>rainfall_ft</th>\n",
       "    </tr>\n",
       "  </thead>\n",
       "  <tbody>\n",
       "    <tr>\n",
       "      <th>1420</th>\n",
       "      <td>2011-08-28</td>\n",
       "      <td>RA101</td>\n",
       "      <td>15.12</td>\n",
       "      <td>5820.0</td>\n",
       "      <td>0.60</td>\n",
       "      <td>0.05</td>\n",
       "    </tr>\n",
       "    <tr>\n",
       "      <th>1421</th>\n",
       "      <td>2011-08-29</td>\n",
       "      <td>RA101</td>\n",
       "      <td>14.99</td>\n",
       "      <td>5730.0</td>\n",
       "      <td>0.00</td>\n",
       "      <td>0.00</td>\n",
       "    </tr>\n",
       "    <tr>\n",
       "      <th>2388</th>\n",
       "      <td>2014-05-01</td>\n",
       "      <td>RA101</td>\n",
       "      <td>11.62</td>\n",
       "      <td>3710.0</td>\n",
       "      <td>0.21</td>\n",
       "      <td>0.02</td>\n",
       "    </tr>\n",
       "    <tr>\n",
       "      <th>5061</th>\n",
       "      <td>2021-09-02</td>\n",
       "      <td>RA101</td>\n",
       "      <td>12.59</td>\n",
       "      <td>4260.0</td>\n",
       "      <td>0.13</td>\n",
       "      <td>0.01</td>\n",
       "    </tr>\n",
       "  </tbody>\n",
       "</table>\n",
       "</div>"
      ],
      "text/plain": [
       "           date   stid  gauge  discharge  rainfall_inches  rainfall_ft\n",
       "1420 2011-08-28  RA101  15.12     5820.0             0.60         0.05\n",
       "1421 2011-08-29  RA101  14.99     5730.0             0.00         0.00\n",
       "2388 2014-05-01  RA101  11.62     3710.0             0.21         0.02\n",
       "5061 2021-09-02  RA101  12.59     4260.0             0.13         0.01"
      ]
     },
     "execution_count": 119,
     "metadata": {},
     "output_type": "execute_result"
    }
   ],
   "source": [
    "# Major flood stage\n",
    "major_filter = np.where(daily_max['gauge'] > 11)\n",
    "major_flood = daily_max.loc[major_filter]\n",
    "print(major_flood.shape)\n",
    "major_flood.head()"
   ]
  }
 ],
 "metadata": {
  "kernelspec": {
   "display_name": "Python 3 (ipykernel)",
   "language": "python",
   "name": "python3"
  },
  "language_info": {
   "codemirror_mode": {
    "name": "ipython",
    "version": 3
   },
   "file_extension": ".py",
   "mimetype": "text/x-python",
   "name": "python",
   "nbconvert_exporter": "python",
   "pygments_lexer": "ipython3",
   "version": "3.9.12"
  },
  "vscode": {
   "interpreter": {
    "hash": "949777d72b0d2535278d3dc13498b2535136f6dfe0678499012e853ee9abcab1"
   }
  }
 },
 "nbformat": 4,
 "nbformat_minor": 5
}
