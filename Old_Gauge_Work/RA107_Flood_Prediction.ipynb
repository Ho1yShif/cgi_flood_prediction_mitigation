{
 "cells": [
  {
   "cell_type": "markdown",
   "id": "78f7e6ea-2792-4ee3-8f46-68e52b9c6646",
   "metadata": {},
   "source": [
    "# Flood Stats\n",
    "- Data: Gauge, Discharge, Rainfall\n",
    "- STIDs: RA101 and RA107 with a focus on RA107"
   ]
  },
  {
   "cell_type": "markdown",
   "id": "8b31651a-078e-48b8-8584-4d214a19f45a",
   "metadata": {},
   "source": [
    "## Goals\n",
    "10/31 Meeting\n",
    "- Clean data\n",
    "- Get daily max values (creek values)\n",
    "- Separate into 3 levels:\n",
    "    - Minor flood stage: 8.5 ft\n",
    "    - Moderate flood stage: 9.5 ft\n",
    "    - Major flood stage: 11 ft\n",
    "    - Minimum operating limit: 0.5 ft"
   ]
  },
  {
   "cell_type": "markdown",
   "id": "dd6e1ed3-b73d-48de-a2ef-b5cebdf8a40e",
   "metadata": {},
   "source": [
    "## Data Dictionary\n",
    "- date: date of measurement\n",
    "- hour: hour of measurement\n",
    "- stid: standard id; regional location\n",
    "- gauge: water level in feet\n",
    "- discharge: discharge level in cubic feet per second\n",
    "- rainfall: rainfall level in inches\n",
    "- rainfall_ft: rainfall level in feet"
   ]
  },
  {
   "cell_type": "markdown",
   "metadata": {},
   "source": [
    "### Data Sources\n",
    "- [Gauge and Discharge](https://waterdata.usgs.gov/monitoring-location/01464000/#parameterCode=00060&startDT=2005-10-01&endDT=2022-10-18)\n",
    "- [Rainfall](https://njdep.rutgers.edu/rainfall/)"
   ]
  },
  {
   "cell_type": "markdown",
   "metadata": {},
   "source": [
    "### Setup"
   ]
  },
  {
   "cell_type": "code",
   "execution_count": 1,
   "metadata": {},
   "outputs": [],
   "source": [
    "import pandas as pd\n",
    "from pandas import DataFrame\n",
    "import numpy as np\n",
    "import seaborn as sns\n",
    "import matplotlib\n",
    "from matplotlib import pyplot as plt\n",
    "%matplotlib inline"
   ]
  },
  {
   "cell_type": "code",
   "execution_count": 39,
   "metadata": {},
   "outputs": [
    {
     "data": {
      "text/plain": [
       "<Figure size 16000x8000 with 0 Axes>"
      ]
     },
     "metadata": {},
     "output_type": "display_data"
    }
   ],
   "source": [
    "# Setup\n",
    "plt.rcParams[\"figure.figsize\"] = (16, 8)\n",
    "plt.figure(dpi=1000)\n",
    "matplotlib.rc('xtick', labelsize=15) \n",
    "matplotlib.rc('ytick', labelsize=15)"
   ]
  },
  {
   "cell_type": "code",
   "execution_count": 2,
   "metadata": {},
   "outputs": [],
   "source": [
    "# Display entire dataframe\n",
    "pd.set_option('display.max_rows', None)\n",
    "pd.set_option('display.max_columns', None)\n",
    "pd.set_option('display.width', None)"
   ]
  },
  {
   "cell_type": "code",
   "execution_count": 3,
   "metadata": {},
   "outputs": [],
   "source": [
    "combined = pd.read_csv(\"Data/combined_rainfall_discharge_gauge.csv\")\n",
    "combined = combined[[\"Date\", \"StID_y\", \"discharge\", \"guage\", \"rainfall_107\"]]"
   ]
  },
  {
   "cell_type": "markdown",
   "metadata": {},
   "source": [
    "### Data Cleaning and Manipulation"
   ]
  },
  {
   "cell_type": "code",
   "execution_count": 4,
   "metadata": {},
   "outputs": [
    {
     "data": {
      "text/html": [
       "<div>\n",
       "<style scoped>\n",
       "    .dataframe tbody tr th:only-of-type {\n",
       "        vertical-align: middle;\n",
       "    }\n",
       "\n",
       "    .dataframe tbody tr th {\n",
       "        vertical-align: top;\n",
       "    }\n",
       "\n",
       "    .dataframe thead th {\n",
       "        text-align: right;\n",
       "    }\n",
       "</style>\n",
       "<table border=\"1\" class=\"dataframe\">\n",
       "  <thead>\n",
       "    <tr style=\"text-align: right;\">\n",
       "      <th></th>\n",
       "      <th>date</th>\n",
       "      <th>stid</th>\n",
       "      <th>discharge</th>\n",
       "      <th>gauge</th>\n",
       "      <th>rainfall_inches</th>\n",
       "    </tr>\n",
       "  </thead>\n",
       "  <tbody>\n",
       "    <tr>\n",
       "      <th>0</th>\n",
       "      <td>2007-10-01</td>\n",
       "      <td>RA107</td>\n",
       "      <td>23.2</td>\n",
       "      <td>2.39</td>\n",
       "      <td>0.0</td>\n",
       "    </tr>\n",
       "    <tr>\n",
       "      <th>1</th>\n",
       "      <td>2007-10-01</td>\n",
       "      <td>RA107</td>\n",
       "      <td>22.6</td>\n",
       "      <td>2.38</td>\n",
       "      <td>0.0</td>\n",
       "    </tr>\n",
       "    <tr>\n",
       "      <th>2</th>\n",
       "      <td>2007-10-01</td>\n",
       "      <td>RA107</td>\n",
       "      <td>21.9</td>\n",
       "      <td>2.37</td>\n",
       "      <td>0.0</td>\n",
       "    </tr>\n",
       "    <tr>\n",
       "      <th>3</th>\n",
       "      <td>2007-10-01</td>\n",
       "      <td>RA107</td>\n",
       "      <td>20.6</td>\n",
       "      <td>2.35</td>\n",
       "      <td>0.0</td>\n",
       "    </tr>\n",
       "    <tr>\n",
       "      <th>4</th>\n",
       "      <td>2007-10-01</td>\n",
       "      <td>RA107</td>\n",
       "      <td>18.9</td>\n",
       "      <td>2.32</td>\n",
       "      <td>0.0</td>\n",
       "    </tr>\n",
       "  </tbody>\n",
       "</table>\n",
       "</div>"
      ],
      "text/plain": [
       "         date   stid  discharge  gauge  rainfall_inches\n",
       "0  2007-10-01  RA107       23.2   2.39              0.0\n",
       "1  2007-10-01  RA107       22.6   2.38              0.0\n",
       "2  2007-10-01  RA107       21.9   2.37              0.0\n",
       "3  2007-10-01  RA107       20.6   2.35              0.0\n",
       "4  2007-10-01  RA107       18.9   2.32              0.0"
      ]
     },
     "execution_count": 4,
     "metadata": {},
     "output_type": "execute_result"
    }
   ],
   "source": [
    "combined.columns = combined.columns.str.lower()\n",
    "combined = combined.rename(columns={'guage': 'gauge', 'rainfall_107': 'rainfall_inches', 'stid_y':'stid'})\n",
    "combined.head()"
   ]
  },
  {
   "cell_type": "code",
   "execution_count": 5,
   "metadata": {},
   "outputs": [],
   "source": [
    "combined['rainfall_ft'] = round(combined['rainfall_inches']/12, 2)\n",
    "combined['date'] = pd.to_datetime(combined['date'], infer_datetime_format=True)"
   ]
  },
  {
   "cell_type": "code",
   "execution_count": 6,
   "metadata": {},
   "outputs": [
    {
     "name": "stdout",
     "output_type": "stream",
     "text": [
      "<class 'pandas.core.frame.DataFrame'>\n",
      "RangeIndex: 131199 entries, 0 to 131198\n",
      "Data columns (total 6 columns):\n",
      " #   Column           Non-Null Count   Dtype         \n",
      "---  ------           --------------   -----         \n",
      " 0   date             131199 non-null  datetime64[ns]\n",
      " 1   stid             131199 non-null  object        \n",
      " 2   discharge        131199 non-null  float64       \n",
      " 3   gauge            131199 non-null  float64       \n",
      " 4   rainfall_inches  131199 non-null  float64       \n",
      " 5   rainfall_ft      131199 non-null  float64       \n",
      "dtypes: datetime64[ns](1), float64(4), object(1)\n",
      "memory usage: 6.0+ MB\n"
     ]
    }
   ],
   "source": [
    "combined.info()"
   ]
  },
  {
   "cell_type": "code",
   "execution_count": 7,
   "metadata": {},
   "outputs": [
    {
     "data": {
      "text/plain": [
       "date               0\n",
       "stid               0\n",
       "discharge          0\n",
       "gauge              0\n",
       "rainfall_inches    0\n",
       "rainfall_ft        0\n",
       "dtype: int64"
      ]
     },
     "execution_count": 7,
     "metadata": {},
     "output_type": "execute_result"
    }
   ],
   "source": [
    "combined.isnull().sum()"
   ]
  },
  {
   "cell_type": "markdown",
   "metadata": {},
   "source": [
    "### Descriptive Stats + Correlational Analysis"
   ]
  },
  {
   "cell_type": "code",
   "execution_count": 8,
   "metadata": {},
   "outputs": [
    {
     "data": {
      "text/html": [
       "<div>\n",
       "<style scoped>\n",
       "    .dataframe tbody tr th:only-of-type {\n",
       "        vertical-align: middle;\n",
       "    }\n",
       "\n",
       "    .dataframe tbody tr th {\n",
       "        vertical-align: top;\n",
       "    }\n",
       "\n",
       "    .dataframe thead th {\n",
       "        text-align: right;\n",
       "    }\n",
       "</style>\n",
       "<table border=\"1\" class=\"dataframe\">\n",
       "  <thead>\n",
       "    <tr style=\"text-align: right;\">\n",
       "      <th></th>\n",
       "      <th>discharge</th>\n",
       "      <th>gauge</th>\n",
       "      <th>rainfall_inches</th>\n",
       "      <th>rainfall_ft</th>\n",
       "    </tr>\n",
       "  </thead>\n",
       "  <tbody>\n",
       "    <tr>\n",
       "      <th>count</th>\n",
       "      <td>131199.000000</td>\n",
       "      <td>131199.000000</td>\n",
       "      <td>131199.000000</td>\n",
       "      <td>131199.000000</td>\n",
       "    </tr>\n",
       "    <tr>\n",
       "      <th>mean</th>\n",
       "      <td>160.276956</td>\n",
       "      <td>3.242591</td>\n",
       "      <td>0.005937</td>\n",
       "      <td>0.000388</td>\n",
       "    </tr>\n",
       "    <tr>\n",
       "      <th>std</th>\n",
       "      <td>213.167199</td>\n",
       "      <td>0.758934</td>\n",
       "      <td>0.036788</td>\n",
       "      <td>0.003111</td>\n",
       "    </tr>\n",
       "    <tr>\n",
       "      <th>min</th>\n",
       "      <td>10.100000</td>\n",
       "      <td>2.170000</td>\n",
       "      <td>0.000000</td>\n",
       "      <td>0.000000</td>\n",
       "    </tr>\n",
       "    <tr>\n",
       "      <th>25%</th>\n",
       "      <td>58.400000</td>\n",
       "      <td>2.770000</td>\n",
       "      <td>0.000000</td>\n",
       "      <td>0.000000</td>\n",
       "    </tr>\n",
       "    <tr>\n",
       "      <th>50%</th>\n",
       "      <td>103.000000</td>\n",
       "      <td>3.080000</td>\n",
       "      <td>0.000000</td>\n",
       "      <td>0.000000</td>\n",
       "    </tr>\n",
       "    <tr>\n",
       "      <th>75%</th>\n",
       "      <td>179.000000</td>\n",
       "      <td>3.470000</td>\n",
       "      <td>0.000000</td>\n",
       "      <td>0.000000</td>\n",
       "    </tr>\n",
       "    <tr>\n",
       "      <th>max</th>\n",
       "      <td>5820.000000</td>\n",
       "      <td>15.120000</td>\n",
       "      <td>2.060000</td>\n",
       "      <td>0.170000</td>\n",
       "    </tr>\n",
       "  </tbody>\n",
       "</table>\n",
       "</div>"
      ],
      "text/plain": [
       "           discharge          gauge  rainfall_inches    rainfall_ft\n",
       "count  131199.000000  131199.000000    131199.000000  131199.000000\n",
       "mean      160.276956       3.242591         0.005937       0.000388\n",
       "std       213.167199       0.758934         0.036788       0.003111\n",
       "min        10.100000       2.170000         0.000000       0.000000\n",
       "25%        58.400000       2.770000         0.000000       0.000000\n",
       "50%       103.000000       3.080000         0.000000       0.000000\n",
       "75%       179.000000       3.470000         0.000000       0.000000\n",
       "max      5820.000000      15.120000         2.060000       0.170000"
      ]
     },
     "execution_count": 8,
     "metadata": {},
     "output_type": "execute_result"
    }
   ],
   "source": [
    "combined.describe()"
   ]
  },
  {
   "cell_type": "code",
   "execution_count": 9,
   "metadata": {},
   "outputs": [
    {
     "data": {
      "text/html": [
       "<div>\n",
       "<style scoped>\n",
       "    .dataframe tbody tr th:only-of-type {\n",
       "        vertical-align: middle;\n",
       "    }\n",
       "\n",
       "    .dataframe tbody tr th {\n",
       "        vertical-align: top;\n",
       "    }\n",
       "\n",
       "    .dataframe thead th {\n",
       "        text-align: right;\n",
       "    }\n",
       "</style>\n",
       "<table border=\"1\" class=\"dataframe\">\n",
       "  <thead>\n",
       "    <tr style=\"text-align: right;\">\n",
       "      <th></th>\n",
       "      <th>discharge</th>\n",
       "      <th>gauge</th>\n",
       "      <th>rainfall_inches</th>\n",
       "      <th>rainfall_ft</th>\n",
       "    </tr>\n",
       "  </thead>\n",
       "  <tbody>\n",
       "    <tr>\n",
       "      <th>discharge</th>\n",
       "      <td>1.000000</td>\n",
       "      <td>0.951102</td>\n",
       "      <td>0.162009</td>\n",
       "      <td>0.150434</td>\n",
       "    </tr>\n",
       "    <tr>\n",
       "      <th>gauge</th>\n",
       "      <td>0.951102</td>\n",
       "      <td>1.000000</td>\n",
       "      <td>0.169425</td>\n",
       "      <td>0.155534</td>\n",
       "    </tr>\n",
       "    <tr>\n",
       "      <th>rainfall_inches</th>\n",
       "      <td>0.162009</td>\n",
       "      <td>0.169425</td>\n",
       "      <td>1.000000</td>\n",
       "      <td>0.968311</td>\n",
       "    </tr>\n",
       "    <tr>\n",
       "      <th>rainfall_ft</th>\n",
       "      <td>0.150434</td>\n",
       "      <td>0.155534</td>\n",
       "      <td>0.968311</td>\n",
       "      <td>1.000000</td>\n",
       "    </tr>\n",
       "  </tbody>\n",
       "</table>\n",
       "</div>"
      ],
      "text/plain": [
       "                 discharge     gauge  rainfall_inches  rainfall_ft\n",
       "discharge         1.000000  0.951102         0.162009     0.150434\n",
       "gauge             0.951102  1.000000         0.169425     0.155534\n",
       "rainfall_inches   0.162009  0.169425         1.000000     0.968311\n",
       "rainfall_ft       0.150434  0.155534         0.968311     1.000000"
      ]
     },
     "execution_count": 9,
     "metadata": {},
     "output_type": "execute_result"
    }
   ],
   "source": [
    "combined.corr()"
   ]
  },
  {
   "cell_type": "markdown",
   "id": "ebbac0f5-aabf-48bd-aacb-ee6c54095ddc",
   "metadata": {},
   "source": [
    "### Group data to get max levels for each day"
   ]
  },
  {
   "cell_type": "code",
   "execution_count": 10,
   "metadata": {},
   "outputs": [
    {
     "data": {
      "text/html": [
       "<div>\n",
       "<style scoped>\n",
       "    .dataframe tbody tr th:only-of-type {\n",
       "        vertical-align: middle;\n",
       "    }\n",
       "\n",
       "    .dataframe tbody tr th {\n",
       "        vertical-align: top;\n",
       "    }\n",
       "\n",
       "    .dataframe thead th {\n",
       "        text-align: right;\n",
       "    }\n",
       "</style>\n",
       "<table border=\"1\" class=\"dataframe\">\n",
       "  <thead>\n",
       "    <tr style=\"text-align: right;\">\n",
       "      <th></th>\n",
       "      <th>date</th>\n",
       "      <th>stid</th>\n",
       "      <th>discharge</th>\n",
       "      <th>gauge</th>\n",
       "      <th>rainfall_inches</th>\n",
       "      <th>rainfall_ft</th>\n",
       "    </tr>\n",
       "  </thead>\n",
       "  <tbody>\n",
       "    <tr>\n",
       "      <th>0</th>\n",
       "      <td>2007-10-01</td>\n",
       "      <td>RA107</td>\n",
       "      <td>23.9</td>\n",
       "      <td>2.40</td>\n",
       "      <td>0.0</td>\n",
       "      <td>0.0</td>\n",
       "    </tr>\n",
       "    <tr>\n",
       "      <th>1</th>\n",
       "      <td>2007-10-02</td>\n",
       "      <td>RA107</td>\n",
       "      <td>23.2</td>\n",
       "      <td>2.39</td>\n",
       "      <td>0.0</td>\n",
       "      <td>0.0</td>\n",
       "    </tr>\n",
       "    <tr>\n",
       "      <th>2</th>\n",
       "      <td>2007-10-03</td>\n",
       "      <td>RA107</td>\n",
       "      <td>23.2</td>\n",
       "      <td>2.39</td>\n",
       "      <td>0.0</td>\n",
       "      <td>0.0</td>\n",
       "    </tr>\n",
       "    <tr>\n",
       "      <th>3</th>\n",
       "      <td>2007-10-04</td>\n",
       "      <td>RA107</td>\n",
       "      <td>23.2</td>\n",
       "      <td>2.39</td>\n",
       "      <td>0.0</td>\n",
       "      <td>0.0</td>\n",
       "    </tr>\n",
       "    <tr>\n",
       "      <th>4</th>\n",
       "      <td>2007-10-05</td>\n",
       "      <td>RA107</td>\n",
       "      <td>25.2</td>\n",
       "      <td>2.42</td>\n",
       "      <td>0.0</td>\n",
       "      <td>0.0</td>\n",
       "    </tr>\n",
       "  </tbody>\n",
       "</table>\n",
       "</div>"
      ],
      "text/plain": [
       "        date   stid  discharge  gauge  rainfall_inches  rainfall_ft\n",
       "0 2007-10-01  RA107       23.9   2.40              0.0          0.0\n",
       "1 2007-10-02  RA107       23.2   2.39              0.0          0.0\n",
       "2 2007-10-03  RA107       23.2   2.39              0.0          0.0\n",
       "3 2007-10-04  RA107       23.2   2.39              0.0          0.0\n",
       "4 2007-10-05  RA107       25.2   2.42              0.0          0.0"
      ]
     },
     "execution_count": 10,
     "metadata": {},
     "output_type": "execute_result"
    }
   ],
   "source": [
    "daily_max = combined.groupby(by='date').max().reset_index()\n",
    "daily_max.head()"
   ]
  },
  {
   "cell_type": "code",
   "execution_count": 11,
   "metadata": {},
   "outputs": [
    {
     "data": {
      "text/html": [
       "<div>\n",
       "<style scoped>\n",
       "    .dataframe tbody tr th:only-of-type {\n",
       "        vertical-align: middle;\n",
       "    }\n",
       "\n",
       "    .dataframe tbody tr th {\n",
       "        vertical-align: top;\n",
       "    }\n",
       "\n",
       "    .dataframe thead th {\n",
       "        text-align: right;\n",
       "    }\n",
       "</style>\n",
       "<table border=\"1\" class=\"dataframe\">\n",
       "  <thead>\n",
       "    <tr style=\"text-align: right;\">\n",
       "      <th></th>\n",
       "      <th>discharge</th>\n",
       "      <th>gauge</th>\n",
       "      <th>rainfall_inches</th>\n",
       "      <th>rainfall_ft</th>\n",
       "    </tr>\n",
       "  </thead>\n",
       "  <tbody>\n",
       "    <tr>\n",
       "      <th>count</th>\n",
       "      <td>5477.000000</td>\n",
       "      <td>5477.000000</td>\n",
       "      <td>5477.000000</td>\n",
       "      <td>5477.000000</td>\n",
       "    </tr>\n",
       "    <tr>\n",
       "      <th>mean</th>\n",
       "      <td>218.041172</td>\n",
       "      <td>3.464241</td>\n",
       "      <td>0.052102</td>\n",
       "      <td>0.004019</td>\n",
       "    </tr>\n",
       "    <tr>\n",
       "      <th>std</th>\n",
       "      <td>304.062274</td>\n",
       "      <td>0.998043</td>\n",
       "      <td>0.131999</td>\n",
       "      <td>0.011183</td>\n",
       "    </tr>\n",
       "    <tr>\n",
       "      <th>min</th>\n",
       "      <td>17.000000</td>\n",
       "      <td>2.320000</td>\n",
       "      <td>0.000000</td>\n",
       "      <td>0.000000</td>\n",
       "    </tr>\n",
       "    <tr>\n",
       "      <th>25%</th>\n",
       "      <td>69.300000</td>\n",
       "      <td>2.850000</td>\n",
       "      <td>0.000000</td>\n",
       "      <td>0.000000</td>\n",
       "    </tr>\n",
       "    <tr>\n",
       "      <th>50%</th>\n",
       "      <td>123.000000</td>\n",
       "      <td>3.190000</td>\n",
       "      <td>0.000000</td>\n",
       "      <td>0.000000</td>\n",
       "    </tr>\n",
       "    <tr>\n",
       "      <th>75%</th>\n",
       "      <td>242.000000</td>\n",
       "      <td>3.740000</td>\n",
       "      <td>0.040000</td>\n",
       "      <td>0.000000</td>\n",
       "    </tr>\n",
       "    <tr>\n",
       "      <th>max</th>\n",
       "      <td>5820.000000</td>\n",
       "      <td>15.120000</td>\n",
       "      <td>2.060000</td>\n",
       "      <td>0.170000</td>\n",
       "    </tr>\n",
       "  </tbody>\n",
       "</table>\n",
       "</div>"
      ],
      "text/plain": [
       "         discharge        gauge  rainfall_inches  rainfall_ft\n",
       "count  5477.000000  5477.000000      5477.000000  5477.000000\n",
       "mean    218.041172     3.464241         0.052102     0.004019\n",
       "std     304.062274     0.998043         0.131999     0.011183\n",
       "min      17.000000     2.320000         0.000000     0.000000\n",
       "25%      69.300000     2.850000         0.000000     0.000000\n",
       "50%     123.000000     3.190000         0.000000     0.000000\n",
       "75%     242.000000     3.740000         0.040000     0.000000\n",
       "max    5820.000000    15.120000         2.060000     0.170000"
      ]
     },
     "execution_count": 11,
     "metadata": {},
     "output_type": "execute_result"
    }
   ],
   "source": [
    "daily_max.describe()"
   ]
  },
  {
   "cell_type": "code",
   "execution_count": 28,
   "metadata": {},
   "outputs": [],
   "source": [
    "def segment_floods(lower, upper=None):\n",
    "\tif upper is None:\n",
    "\t\tfilter = np.where(daily_max['gauge'] >= lower)\n",
    "\telse:\n",
    "\t\tfilter = np.where((daily_max['gauge'] >= lower) & (daily_max['gauge'] < upper))\n",
    "\n",
    "\treturn filter"
   ]
  },
  {
   "cell_type": "code",
   "execution_count": 29,
   "metadata": {},
   "outputs": [],
   "source": [
    "op_limit = segment_floods(0.5)\n",
    "minor_filter = segment_floods(8.5, 9.5)\n",
    "moderate_filter = segment_floods(9.5, 11)\n",
    "major_filter = segment_floods(11)"
   ]
  },
  {
   "cell_type": "code",
   "execution_count": 30,
   "metadata": {},
   "outputs": [],
   "source": [
    "filters = [minor_filter, moderate_filter, major_filter]\n",
    "labels = ['Minor', 'Moderate', 'Major']"
   ]
  },
  {
   "cell_type": "code",
   "execution_count": 33,
   "metadata": {},
   "outputs": [
    {
     "data": {
      "text/plain": [
       "array(['Not Flood', 'Minor', 'Moderate', 'Major'], dtype=object)"
      ]
     },
     "execution_count": 33,
     "metadata": {},
     "output_type": "execute_result"
    }
   ],
   "source": [
    "# Assign flood label values\n",
    "for filter, label in zip(filters, labels):\n",
    "\tfor idx in filter:\n",
    "\t\tdaily_max.loc[idx, 'category'] = label\n",
    "\n",
    "daily_max['category'].unique()"
   ]
  },
  {
   "cell_type": "markdown",
   "metadata": {},
   "source": [
    "### Data Visualization"
   ]
  },
  {
   "cell_type": "code",
   "execution_count": 41,
   "metadata": {},
   "outputs": [
    {
     "data": {
      "text/plain": [
       "<AxesSubplot:xlabel='date', ylabel='gauge'>"
      ]
     },
     "execution_count": 41,
     "metadata": {},
     "output_type": "execute_result"
    },
    {
     "data": {
      "image/png": "[encoded data removed]",
      "text/plain": [
       "<Figure size 1152x576 with 1 Axes>"
      ]
     },
     "metadata": {
      "needs_background": "light"
     },
     "output_type": "display_data"
    }
   ],
   "source": [
    "all = sns.lineplot(x='date', y='gauge', hue='category', data=daily_max)\n",
    "all"
   ]
  },
  {
   "cell_type": "code",
   "execution_count": 43,
   "metadata": {},
   "outputs": [
    {
     "data": {
      "text/plain": [
       "<AxesSubplot:xlabel='date', ylabel='gauge'>"
      ]
     },
     "execution_count": 43,
     "metadata": {},
     "output_type": "execute_result"
    },
    {
     "data": {
      "image/png": "[encoded data removed]",
      "text/plain": [
       "<Figure size 1152x576 with 1 Axes>"
      ]
     },
     "metadata": {
      "needs_background": "light"
     },
     "output_type": "display_data"
    }
   ],
   "source": [
    "floods = sns.lineplot(x='date', y='gauge', hue='category', data=daily_max[daily_max['gauge'] >= 8.5])\n",
    "floods"
   ]
  }
 ],
 "metadata": {
  "kernelspec": {
   "display_name": "Python 3.8.13 ('base')",
   "language": "python",
   "name": "python3"
  },
  "language_info": {
   "codemirror_mode": {
    "name": "ipython",
    "version": 3
   },
   "file_extension": ".py",
   "mimetype": "text/x-python",
   "name": "python",
   "nbconvert_exporter": "python",
   "pygments_lexer": "ipython3",
   "version": "3.8.13"
  },
  "orig_nbformat": 4,
  "vscode": {
   "interpreter": {
    "hash": "fa8fba2ba956a6b92dce1f77645742a181fb84294b2aaeda6d92449f2e12b87a"
   }
  }
 },
 "nbformat": 4,
 "nbformat_minor": 2
}
