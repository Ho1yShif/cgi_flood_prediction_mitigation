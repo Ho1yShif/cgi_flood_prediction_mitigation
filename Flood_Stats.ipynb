{
 "cells": [
  {
   "cell_type": "markdown",
   "id": "78f7e6ea-2792-4ee3-8f46-68e52b9c6646",
   "metadata": {},
   "source": [
    "# Flood Stats\n",
    "All data"
   ]
  },
  {
   "cell_type": "markdown",
   "id": "8b31651a-078e-48b8-8584-4d214a19f45a",
   "metadata": {},
   "source": [
    "## Goals\n",
    "10/31 Meeting\n",
    "- Clean data\n",
    "- Get daily max values (creek values)\n",
    "- Separate into 3 levels:\n",
    "    - Minor flood stage: 8.5 ft\n",
    "    - Moderate flood stage: 9.5 ft\n",
    "    - Major flood stage: 11 ft\n",
    "    - Minimum operating limit: 0.5 ft"
   ]
  },
  {
   "cell_type": "markdown",
   "id": "e60f3eaf-3526-465d-998e-cf8670fee475",
   "metadata": {},
   "source": [
    "### Setup"
   ]
  },
  {
   "cell_type": "code",
   "execution_count": 35,
   "id": "0b462465-2d8a-4d7d-98e1-4844ffdfaef0",
   "metadata": {},
   "outputs": [],
   "source": [
    "import pandas as pd\n",
    "from pandas import DataFrame\n",
    "import numpy as np\n",
    "import seaborn as sns\n",
    "import matplotlib\n",
    "from matplotlib import pyplot as plt\n",
    "%matplotlib inline"
   ]
  },
  {
   "cell_type": "code",
   "execution_count": 36,
   "id": "c77fb79f-fcc5-431b-95d3-62bcb499009e",
   "metadata": {},
   "outputs": [],
   "source": [
    "# Display entire dataframe\n",
    "pd.set_option('display.max_rows', None)\n",
    "pd.set_option('display.max_columns', None)\n",
    "pd.set_option('display.width', None)"
   ]
  },
  {
   "cell_type": "code",
   "execution_count": 37,
   "id": "de6a1392-b85d-439e-8915-513ce13e9d8d",
   "metadata": {},
   "outputs": [
    {
     "name": "stdout",
     "output_type": "stream",
     "text": [
      "/Users/shifraisaacs/Documents/Externship/cgi_flood_prediction_mitigation\n"
     ]
    }
   ],
   "source": [
    "cd '/Users/shifraisaacs/Documents/Externship/cgi_flood_prediction_mitigation'"
   ]
  },
  {
   "cell_type": "markdown",
   "id": "772f7f55-49ba-4585-b899-6cb8b522a5e8",
   "metadata": {},
   "source": [
    "### Load Data"
   ]
  },
  {
   "cell_type": "code",
   "execution_count": 38,
   "id": "47a8a583-f9ca-4af1-ae25-e421684afd42",
   "metadata": {},
   "outputs": [
    {
     "name": "stdout",
     "output_type": "stream",
     "text": [
      "(131199, 7)\n"
     ]
    },
    {
     "data": {
      "text/html": [
       "<div>\n",
       "<style scoped>\n",
       "    .dataframe tbody tr th:only-of-type {\n",
       "        vertical-align: middle;\n",
       "    }\n",
       "\n",
       "    .dataframe tbody tr th {\n",
       "        vertical-align: top;\n",
       "    }\n",
       "\n",
       "    .dataframe thead th {\n",
       "        text-align: right;\n",
       "    }\n",
       "</style>\n",
       "<table border=\"1\" class=\"dataframe\">\n",
       "  <thead>\n",
       "    <tr style=\"text-align: right;\">\n",
       "      <th></th>\n",
       "      <th>agency_cd_x</th>\n",
       "      <th>guage</th>\n",
       "      <th>discharge</th>\n",
       "      <th>Date</th>\n",
       "      <th>hour</th>\n",
       "      <th>StID</th>\n",
       "      <th>rainfall</th>\n",
       "    </tr>\n",
       "  </thead>\n",
       "  <tbody>\n",
       "    <tr>\n",
       "      <th>0</th>\n",
       "      <td>USGS</td>\n",
       "      <td>2.39</td>\n",
       "      <td>23.2</td>\n",
       "      <td>2007-10-01</td>\n",
       "      <td>1</td>\n",
       "      <td>RA101</td>\n",
       "      <td>0.0</td>\n",
       "    </tr>\n",
       "    <tr>\n",
       "      <th>1</th>\n",
       "      <td>USGS</td>\n",
       "      <td>2.38</td>\n",
       "      <td>22.6</td>\n",
       "      <td>2007-10-01</td>\n",
       "      <td>2</td>\n",
       "      <td>RA101</td>\n",
       "      <td>0.0</td>\n",
       "    </tr>\n",
       "    <tr>\n",
       "      <th>2</th>\n",
       "      <td>USGS</td>\n",
       "      <td>2.37</td>\n",
       "      <td>21.9</td>\n",
       "      <td>2007-10-01</td>\n",
       "      <td>3</td>\n",
       "      <td>RA101</td>\n",
       "      <td>0.0</td>\n",
       "    </tr>\n",
       "    <tr>\n",
       "      <th>3</th>\n",
       "      <td>USGS</td>\n",
       "      <td>2.35</td>\n",
       "      <td>20.6</td>\n",
       "      <td>2007-10-01</td>\n",
       "      <td>4</td>\n",
       "      <td>RA101</td>\n",
       "      <td>0.0</td>\n",
       "    </tr>\n",
       "    <tr>\n",
       "      <th>4</th>\n",
       "      <td>USGS</td>\n",
       "      <td>2.32</td>\n",
       "      <td>18.9</td>\n",
       "      <td>2007-10-01</td>\n",
       "      <td>5</td>\n",
       "      <td>RA101</td>\n",
       "      <td>0.0</td>\n",
       "    </tr>\n",
       "  </tbody>\n",
       "</table>\n",
       "</div>"
      ],
      "text/plain": [
       "  agency_cd_x  guage  discharge        Date  hour   StID  rainfall\n",
       "0        USGS   2.39       23.2  2007-10-01     1  RA101       0.0\n",
       "1        USGS   2.38       22.6  2007-10-01     2  RA101       0.0\n",
       "2        USGS   2.37       21.9  2007-10-01     3  RA101       0.0\n",
       "3        USGS   2.35       20.6  2007-10-01     4  RA101       0.0\n",
       "4        USGS   2.32       18.9  2007-10-01     5  RA101       0.0"
      ]
     },
     "execution_count": 38,
     "metadata": {},
     "output_type": "execute_result"
    }
   ],
   "source": [
    "combined = pd.read_csv('combined_rainfall_discharge_gauge.csv', index_col=0)\n",
    "print(combined.shape)\n",
    "combined.head()"
   ]
  },
  {
   "cell_type": "markdown",
   "id": "199bd0d8-633a-4875-a59c-f7ea20463053",
   "metadata": {},
   "source": [
    "### Data Cleaning and Manipulation"
   ]
  },
  {
   "cell_type": "code",
   "execution_count": 39,
   "id": "ee835fd5-cfc0-4de8-8549-9abc3e9e0f56",
   "metadata": {},
   "outputs": [
    {
     "data": {
      "text/html": [
       "<div>\n",
       "<style scoped>\n",
       "    .dataframe tbody tr th:only-of-type {\n",
       "        vertical-align: middle;\n",
       "    }\n",
       "\n",
       "    .dataframe tbody tr th {\n",
       "        vertical-align: top;\n",
       "    }\n",
       "\n",
       "    .dataframe thead th {\n",
       "        text-align: right;\n",
       "    }\n",
       "</style>\n",
       "<table border=\"1\" class=\"dataframe\">\n",
       "  <thead>\n",
       "    <tr style=\"text-align: right;\">\n",
       "      <th></th>\n",
       "      <th>date</th>\n",
       "      <th>stid</th>\n",
       "      <th>gauge</th>\n",
       "      <th>discharge</th>\n",
       "      <th>rainfall</th>\n",
       "    </tr>\n",
       "  </thead>\n",
       "  <tbody>\n",
       "    <tr>\n",
       "      <th>0</th>\n",
       "      <td>2007-10-01</td>\n",
       "      <td>RA101</td>\n",
       "      <td>2.39</td>\n",
       "      <td>23.2</td>\n",
       "      <td>0.0</td>\n",
       "    </tr>\n",
       "    <tr>\n",
       "      <th>1</th>\n",
       "      <td>2007-10-01</td>\n",
       "      <td>RA101</td>\n",
       "      <td>2.38</td>\n",
       "      <td>22.6</td>\n",
       "      <td>0.0</td>\n",
       "    </tr>\n",
       "    <tr>\n",
       "      <th>2</th>\n",
       "      <td>2007-10-01</td>\n",
       "      <td>RA101</td>\n",
       "      <td>2.37</td>\n",
       "      <td>21.9</td>\n",
       "      <td>0.0</td>\n",
       "    </tr>\n",
       "    <tr>\n",
       "      <th>3</th>\n",
       "      <td>2007-10-01</td>\n",
       "      <td>RA101</td>\n",
       "      <td>2.35</td>\n",
       "      <td>20.6</td>\n",
       "      <td>0.0</td>\n",
       "    </tr>\n",
       "    <tr>\n",
       "      <th>4</th>\n",
       "      <td>2007-10-01</td>\n",
       "      <td>RA101</td>\n",
       "      <td>2.32</td>\n",
       "      <td>18.9</td>\n",
       "      <td>0.0</td>\n",
       "    </tr>\n",
       "  </tbody>\n",
       "</table>\n",
       "</div>"
      ],
      "text/plain": [
       "         date   stid  gauge  discharge  rainfall\n",
       "0  2007-10-01  RA101   2.39       23.2       0.0\n",
       "1  2007-10-01  RA101   2.38       22.6       0.0\n",
       "2  2007-10-01  RA101   2.37       21.9       0.0\n",
       "3  2007-10-01  RA101   2.35       20.6       0.0\n",
       "4  2007-10-01  RA101   2.32       18.9       0.0"
      ]
     },
     "execution_count": 39,
     "metadata": {},
     "output_type": "execute_result"
    }
   ],
   "source": [
    "# Rearrange columns and fix spelling mistake\n",
    "combined.columns = combined.columns.str.lower()\n",
    "combined = combined[['date', 'stid', 'guage', 'discharge', 'rainfall']]\n",
    "combined = combined.rename(columns={'guage': 'gauge', 'rainfall': 'rainfall_inches'})\n",
    "combined.head()"
   ]
  },
  {
   "cell_type": "code",
   "execution_count": 40,
   "id": "3f3c961c-b2d2-46c0-9ecd-88827902ef40",
   "metadata": {},
   "outputs": [],
   "source": [
    "combined['rainfall_ft'] = round(combined['rainfall']/12, 2)"
   ]
  },
  {
   "cell_type": "code",
   "execution_count": 41,
   "id": "3673d693-ed41-4218-9db6-ccf8d2831edc",
   "metadata": {},
   "outputs": [],
   "source": [
    "combined['date'] = pd.to_datetime(combined['date'], infer_datetime_format=True)"
   ]
  },
  {
   "cell_type": "code",
   "execution_count": 42,
   "id": "8a674dd1-f914-4a5c-83d9-2b3edeec221f",
   "metadata": {},
   "outputs": [
    {
     "name": "stdout",
     "output_type": "stream",
     "text": [
      "<class 'pandas.core.frame.DataFrame'>\n",
      "Int64Index: 131199 entries, 0 to 131198\n",
      "Data columns (total 6 columns):\n",
      " #   Column       Non-Null Count   Dtype         \n",
      "---  ------       --------------   -----         \n",
      " 0   date         131199 non-null  datetime64[ns]\n",
      " 1   stid         131199 non-null  object        \n",
      " 2   gauge        131199 non-null  float64       \n",
      " 3   discharge    131199 non-null  float64       \n",
      " 4   rainfall     131199 non-null  float64       \n",
      " 5   rainfall_ft  131199 non-null  float64       \n",
      "dtypes: datetime64[ns](1), float64(4), object(1)\n",
      "memory usage: 7.0+ MB\n"
     ]
    }
   ],
   "source": [
    "combined.info()"
   ]
  },
  {
   "cell_type": "markdown",
   "id": "dd6e1ed3-b73d-48de-a2ef-b5cebdf8a40e",
   "metadata": {},
   "source": [
    "## Data Dictionary\n",
    "- date: date of measurement\n",
    "- hour: hour of measurement\n",
    "- stid: regional location\n",
    "- gauge: water level in feet\n",
    "- discharge: discharge level in cubic feet per second\n",
    "- rainfall: rainfall level in inches\n",
    "- rainfall_ft: rainfall level in feet"
   ]
  },
  {
   "cell_type": "markdown",
   "id": "c9ea0ac2-10d8-4e35-9a16-c4ffd2da816f",
   "metadata": {},
   "source": [
    "### Data Sources\n",
    "- [Gauge and Discharge](https://waterdata.usgs.gov/monitoring-location/01464000/#parameterCode=00060&startDT=2005-10-01&endDT=2022-10-18)\n",
    "- [Rainfall](https://njdep.rutgers.edu/rainfall/)"
   ]
  },
  {
   "cell_type": "code",
   "execution_count": 43,
   "id": "fb63ce50-2b81-41c0-aa7d-cefa6a078e93",
   "metadata": {},
   "outputs": [
    {
     "data": {
      "text/plain": [
       "date           0\n",
       "stid           0\n",
       "gauge          0\n",
       "discharge      0\n",
       "rainfall       0\n",
       "rainfall_ft    0\n",
       "dtype: int64"
      ]
     },
     "execution_count": 43,
     "metadata": {},
     "output_type": "execute_result"
    }
   ],
   "source": [
    "# Confirm no null values\n",
    "combined.isnull().sum()"
   ]
  },
  {
   "cell_type": "markdown",
   "id": "0cf26771-3abd-4b94-a9cf-da7eddfc46a6",
   "metadata": {
    "tags": []
   },
   "source": [
    "### Descriptive Stats"
   ]
  },
  {
   "cell_type": "code",
   "execution_count": 44,
   "id": "b2d53f9e-aea0-41ab-99ef-baed3b193760",
   "metadata": {},
   "outputs": [
    {
     "data": {
      "text/html": [
       "<div>\n",
       "<style scoped>\n",
       "    .dataframe tbody tr th:only-of-type {\n",
       "        vertical-align: middle;\n",
       "    }\n",
       "\n",
       "    .dataframe tbody tr th {\n",
       "        vertical-align: top;\n",
       "    }\n",
       "\n",
       "    .dataframe thead th {\n",
       "        text-align: right;\n",
       "    }\n",
       "</style>\n",
       "<table border=\"1\" class=\"dataframe\">\n",
       "  <thead>\n",
       "    <tr style=\"text-align: right;\">\n",
       "      <th></th>\n",
       "      <th>gauge</th>\n",
       "      <th>discharge</th>\n",
       "      <th>rainfall</th>\n",
       "      <th>rainfall_ft</th>\n",
       "    </tr>\n",
       "  </thead>\n",
       "  <tbody>\n",
       "    <tr>\n",
       "      <th>count</th>\n",
       "      <td>131199.000000</td>\n",
       "      <td>131199.000000</td>\n",
       "      <td>131199.000000</td>\n",
       "      <td>131199.000000</td>\n",
       "    </tr>\n",
       "    <tr>\n",
       "      <th>mean</th>\n",
       "      <td>3.242591</td>\n",
       "      <td>160.276956</td>\n",
       "      <td>0.005587</td>\n",
       "      <td>0.000373</td>\n",
       "    </tr>\n",
       "    <tr>\n",
       "      <th>std</th>\n",
       "      <td>0.758934</td>\n",
       "      <td>213.167199</td>\n",
       "      <td>0.034964</td>\n",
       "      <td>0.002962</td>\n",
       "    </tr>\n",
       "    <tr>\n",
       "      <th>min</th>\n",
       "      <td>2.170000</td>\n",
       "      <td>10.100000</td>\n",
       "      <td>0.000000</td>\n",
       "      <td>0.000000</td>\n",
       "    </tr>\n",
       "    <tr>\n",
       "      <th>25%</th>\n",
       "      <td>2.770000</td>\n",
       "      <td>58.400000</td>\n",
       "      <td>0.000000</td>\n",
       "      <td>0.000000</td>\n",
       "    </tr>\n",
       "    <tr>\n",
       "      <th>50%</th>\n",
       "      <td>3.080000</td>\n",
       "      <td>103.000000</td>\n",
       "      <td>0.000000</td>\n",
       "      <td>0.000000</td>\n",
       "    </tr>\n",
       "    <tr>\n",
       "      <th>75%</th>\n",
       "      <td>3.470000</td>\n",
       "      <td>179.000000</td>\n",
       "      <td>0.000000</td>\n",
       "      <td>0.000000</td>\n",
       "    </tr>\n",
       "    <tr>\n",
       "      <th>max</th>\n",
       "      <td>15.120000</td>\n",
       "      <td>5820.000000</td>\n",
       "      <td>1.700000</td>\n",
       "      <td>0.140000</td>\n",
       "    </tr>\n",
       "  </tbody>\n",
       "</table>\n",
       "</div>"
      ],
      "text/plain": [
       "               gauge      discharge       rainfall    rainfall_ft\n",
       "count  131199.000000  131199.000000  131199.000000  131199.000000\n",
       "mean        3.242591     160.276956       0.005587       0.000373\n",
       "std         0.758934     213.167199       0.034964       0.002962\n",
       "min         2.170000      10.100000       0.000000       0.000000\n",
       "25%         2.770000      58.400000       0.000000       0.000000\n",
       "50%         3.080000     103.000000       0.000000       0.000000\n",
       "75%         3.470000     179.000000       0.000000       0.000000\n",
       "max        15.120000    5820.000000       1.700000       0.140000"
      ]
     },
     "execution_count": 44,
     "metadata": {},
     "output_type": "execute_result"
    }
   ],
   "source": [
    "combined.describe()"
   ]
  },
  {
   "cell_type": "markdown",
   "id": "eb558117-0bfa-4b83-aaa8-47aa712924d3",
   "metadata": {},
   "source": [
    "### Correlational Analysis\n",
    "Strong correlation between gauge and discharge; minimal correlation with rainfall"
   ]
  },
  {
   "cell_type": "code",
   "execution_count": 45,
   "id": "c8d65dff-2693-45cd-92ff-9c23c45d3134",
   "metadata": {},
   "outputs": [
    {
     "data": {
      "text/html": [
       "<div>\n",
       "<style scoped>\n",
       "    .dataframe tbody tr th:only-of-type {\n",
       "        vertical-align: middle;\n",
       "    }\n",
       "\n",
       "    .dataframe tbody tr th {\n",
       "        vertical-align: top;\n",
       "    }\n",
       "\n",
       "    .dataframe thead th {\n",
       "        text-align: right;\n",
       "    }\n",
       "</style>\n",
       "<table border=\"1\" class=\"dataframe\">\n",
       "  <thead>\n",
       "    <tr style=\"text-align: right;\">\n",
       "      <th></th>\n",
       "      <th>gauge</th>\n",
       "      <th>discharge</th>\n",
       "      <th>rainfall</th>\n",
       "      <th>rainfall_ft</th>\n",
       "    </tr>\n",
       "  </thead>\n",
       "  <tbody>\n",
       "    <tr>\n",
       "      <th>gauge</th>\n",
       "      <td>1.000000</td>\n",
       "      <td>0.951102</td>\n",
       "      <td>0.174789</td>\n",
       "      <td>0.159878</td>\n",
       "    </tr>\n",
       "    <tr>\n",
       "      <th>discharge</th>\n",
       "      <td>0.951102</td>\n",
       "      <td>1.000000</td>\n",
       "      <td>0.166233</td>\n",
       "      <td>0.152832</td>\n",
       "    </tr>\n",
       "    <tr>\n",
       "      <th>rainfall</th>\n",
       "      <td>0.174789</td>\n",
       "      <td>0.166233</td>\n",
       "      <td>1.000000</td>\n",
       "      <td>0.967911</td>\n",
       "    </tr>\n",
       "    <tr>\n",
       "      <th>rainfall_ft</th>\n",
       "      <td>0.159878</td>\n",
       "      <td>0.152832</td>\n",
       "      <td>0.967911</td>\n",
       "      <td>1.000000</td>\n",
       "    </tr>\n",
       "  </tbody>\n",
       "</table>\n",
       "</div>"
      ],
      "text/plain": [
       "                gauge  discharge  rainfall  rainfall_ft\n",
       "gauge        1.000000   0.951102  0.174789     0.159878\n",
       "discharge    0.951102   1.000000  0.166233     0.152832\n",
       "rainfall     0.174789   0.166233  1.000000     0.967911\n",
       "rainfall_ft  0.159878   0.152832  0.967911     1.000000"
      ]
     },
     "execution_count": 45,
     "metadata": {},
     "output_type": "execute_result"
    }
   ],
   "source": [
    "combined.corr()"
   ]
  },
  {
   "cell_type": "markdown",
   "id": "ebbac0f5-aabf-48bd-aacb-ee6c54095ddc",
   "metadata": {},
   "source": [
    "### Group data to get max levels for each day"
   ]
  },
  {
   "cell_type": "code",
   "execution_count": 46,
   "id": "28c303c4-0dd2-4843-98d8-a77cc1c9c62c",
   "metadata": {},
   "outputs": [
    {
     "data": {
      "text/html": [
       "<div>\n",
       "<style scoped>\n",
       "    .dataframe tbody tr th:only-of-type {\n",
       "        vertical-align: middle;\n",
       "    }\n",
       "\n",
       "    .dataframe tbody tr th {\n",
       "        vertical-align: top;\n",
       "    }\n",
       "\n",
       "    .dataframe thead th {\n",
       "        text-align: right;\n",
       "    }\n",
       "</style>\n",
       "<table border=\"1\" class=\"dataframe\">\n",
       "  <thead>\n",
       "    <tr style=\"text-align: right;\">\n",
       "      <th></th>\n",
       "      <th>date</th>\n",
       "      <th>gauge</th>\n",
       "      <th>discharge</th>\n",
       "      <th>rainfall</th>\n",
       "      <th>rainfall_ft</th>\n",
       "    </tr>\n",
       "  </thead>\n",
       "  <tbody>\n",
       "    <tr>\n",
       "      <th>0</th>\n",
       "      <td>2007-10-01</td>\n",
       "      <td>2.355652</td>\n",
       "      <td>21.147826</td>\n",
       "      <td>0.0</td>\n",
       "      <td>0.0</td>\n",
       "    </tr>\n",
       "    <tr>\n",
       "      <th>1</th>\n",
       "      <td>2007-10-02</td>\n",
       "      <td>2.342083</td>\n",
       "      <td>20.345833</td>\n",
       "      <td>0.0</td>\n",
       "      <td>0.0</td>\n",
       "    </tr>\n",
       "    <tr>\n",
       "      <th>2</th>\n",
       "      <td>2007-10-03</td>\n",
       "      <td>2.329583</td>\n",
       "      <td>19.633333</td>\n",
       "      <td>0.0</td>\n",
       "      <td>0.0</td>\n",
       "    </tr>\n",
       "    <tr>\n",
       "      <th>3</th>\n",
       "      <td>2007-10-04</td>\n",
       "      <td>2.341250</td>\n",
       "      <td>20.312500</td>\n",
       "      <td>0.0</td>\n",
       "      <td>0.0</td>\n",
       "    </tr>\n",
       "    <tr>\n",
       "      <th>4</th>\n",
       "      <td>2007-10-05</td>\n",
       "      <td>2.362500</td>\n",
       "      <td>21.629167</td>\n",
       "      <td>0.0</td>\n",
       "      <td>0.0</td>\n",
       "    </tr>\n",
       "  </tbody>\n",
       "</table>\n",
       "</div>"
      ],
      "text/plain": [
       "        date     gauge  discharge  rainfall  rainfall_ft\n",
       "0 2007-10-01  2.355652  21.147826       0.0          0.0\n",
       "1 2007-10-02  2.342083  20.345833       0.0          0.0\n",
       "2 2007-10-03  2.329583  19.633333       0.0          0.0\n",
       "3 2007-10-04  2.341250  20.312500       0.0          0.0\n",
       "4 2007-10-05  2.362500  21.629167       0.0          0.0"
      ]
     },
     "execution_count": 46,
     "metadata": {},
     "output_type": "execute_result"
    }
   ],
   "source": [
    "daily_max = combined.groupby(by='date').mean().reset_index()\n",
    "daily_max.head()"
   ]
  },
  {
   "cell_type": "code",
   "execution_count": 48,
   "id": "e1528c9f-3fb8-4c5f-867b-74a79e472faa",
   "metadata": {},
   "outputs": [],
   "source": [
    "daily_max.to_csv('Data/Daily_Max_Vals.csv')"
   ]
  },
  {
   "cell_type": "markdown",
   "id": "bd68e1f7-883c-444b-a3a6-772be8e65c34",
   "metadata": {},
   "source": [
    "## Create data subsets"
   ]
  },
  {
   "cell_type": "code",
   "execution_count": 49,
   "id": "810a61ad-1a76-44b1-8cbc-df8070526354",
   "metadata": {},
   "outputs": [
    {
     "data": {
      "text/html": [
       "<div>\n",
       "<style scoped>\n",
       "    .dataframe tbody tr th:only-of-type {\n",
       "        vertical-align: middle;\n",
       "    }\n",
       "\n",
       "    .dataframe tbody tr th {\n",
       "        vertical-align: top;\n",
       "    }\n",
       "\n",
       "    .dataframe thead th {\n",
       "        text-align: right;\n",
       "    }\n",
       "</style>\n",
       "<table border=\"1\" class=\"dataframe\">\n",
       "  <thead>\n",
       "    <tr style=\"text-align: right;\">\n",
       "      <th></th>\n",
       "      <th>date</th>\n",
       "      <th>stid</th>\n",
       "      <th>gauge</th>\n",
       "      <th>discharge</th>\n",
       "      <th>rainfall</th>\n",
       "      <th>rainfall_ft</th>\n",
       "    </tr>\n",
       "  </thead>\n",
       "  <tbody>\n",
       "    <tr>\n",
       "      <th>0</th>\n",
       "      <td>2007-10-01</td>\n",
       "      <td>RA101</td>\n",
       "      <td>2.39</td>\n",
       "      <td>23.2</td>\n",
       "      <td>0.0</td>\n",
       "      <td>0.0</td>\n",
       "    </tr>\n",
       "    <tr>\n",
       "      <th>1</th>\n",
       "      <td>2007-10-01</td>\n",
       "      <td>RA101</td>\n",
       "      <td>2.38</td>\n",
       "      <td>22.6</td>\n",
       "      <td>0.0</td>\n",
       "      <td>0.0</td>\n",
       "    </tr>\n",
       "    <tr>\n",
       "      <th>2</th>\n",
       "      <td>2007-10-01</td>\n",
       "      <td>RA101</td>\n",
       "      <td>2.37</td>\n",
       "      <td>21.9</td>\n",
       "      <td>0.0</td>\n",
       "      <td>0.0</td>\n",
       "    </tr>\n",
       "    <tr>\n",
       "      <th>3</th>\n",
       "      <td>2007-10-01</td>\n",
       "      <td>RA101</td>\n",
       "      <td>2.35</td>\n",
       "      <td>20.6</td>\n",
       "      <td>0.0</td>\n",
       "      <td>0.0</td>\n",
       "    </tr>\n",
       "    <tr>\n",
       "      <th>4</th>\n",
       "      <td>2007-10-01</td>\n",
       "      <td>RA101</td>\n",
       "      <td>2.32</td>\n",
       "      <td>18.9</td>\n",
       "      <td>0.0</td>\n",
       "      <td>0.0</td>\n",
       "    </tr>\n",
       "  </tbody>\n",
       "</table>\n",
       "</div>"
      ],
      "text/plain": [
       "        date   stid  gauge  discharge  rainfall  rainfall_ft\n",
       "0 2007-10-01  RA101   2.39       23.2       0.0          0.0\n",
       "1 2007-10-01  RA101   2.38       22.6       0.0          0.0\n",
       "2 2007-10-01  RA101   2.37       21.9       0.0          0.0\n",
       "3 2007-10-01  RA101   2.35       20.6       0.0          0.0\n",
       "4 2007-10-01  RA101   2.32       18.9       0.0          0.0"
      ]
     },
     "execution_count": 49,
     "metadata": {},
     "output_type": "execute_result"
    }
   ],
   "source": [
    "# Minimum operating limit\n",
    "op_limit = combined[combined['gauge'] >= 0.5]\n",
    "op_limit.head()"
   ]
  },
  {
   "cell_type": "code",
   "execution_count": 51,
   "id": "ecdd0e6a-ce81-4d78-a6dc-3f2435450201",
   "metadata": {},
   "outputs": [
    {
     "ename": "SyntaxError",
     "evalue": "invalid syntax (1789602349.py, line 2)",
     "output_type": "error",
     "traceback": [
      "\u001b[0;36m  File \u001b[0;32m\"/var/folders/9n/cydgwsgx6h32_js3qd22zk1m0000gn/T/ipykernel_16727/1789602349.py\"\u001b[0;36m, line \u001b[0;32m2\u001b[0m\n\u001b[0;31m    minor_flood = (combined[combined['gauge'] >= 8.5]) && (combined[combined['gauge'] < 9.5])\u001b[0m\n\u001b[0m                                                        ^\u001b[0m\n\u001b[0;31mSyntaxError\u001b[0m\u001b[0;31m:\u001b[0m invalid syntax\n"
     ]
    }
   ],
   "source": [
    "# Minor flood stage\n",
    "minor_flood = (combined[combined['gauge'] >= 8.5]) && (combined[combined['gauge'] < 9.5])\n",
    "minor_flood.head()"
   ]
  },
  {
   "cell_type": "markdown",
   "id": "ea534ce1-0e7c-4a8b-bf67-38eabecfe89e",
   "metadata": {},
   "source": [
    "## Data Visualization"
   ]
  }
 ],
 "metadata": {
  "kernelspec": {
   "display_name": "Python 3 (ipykernel)",
   "language": "python",
   "name": "python3"
  },
  "language_info": {
   "codemirror_mode": {
    "name": "ipython",
    "version": 3
   },
   "file_extension": ".py",
   "mimetype": "text/x-python",
   "name": "python",
   "nbconvert_exporter": "python",
   "pygments_lexer": "ipython3",
   "version": "3.10.5"
  },
  "vscode": {
   "interpreter": {
    "hash": "949777d72b0d2535278d3dc13498b2535136f6dfe0678499012e853ee9abcab1"
   }
  }
 },
 "nbformat": 4,
 "nbformat_minor": 5
}
