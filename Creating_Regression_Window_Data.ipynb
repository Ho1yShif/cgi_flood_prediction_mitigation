{
 "cells": [
  {
   "cell_type": "code",
   "execution_count": 1,
   "id": "2e4f38b3",
   "metadata": {},
   "outputs": [],
   "source": [
    "import numpy as np \n",
    "import pandas as pd"
   ]
  },
  {
   "cell_type": "code",
   "execution_count": 2,
   "id": "e9f539c6",
   "metadata": {},
   "outputs": [],
   "source": [
    "df = pd.read_csv(\"Data/Daily_Max_Vals.csv\")"
   ]
  },
  {
   "cell_type": "code",
   "execution_count": 3,
   "id": "3840556d",
   "metadata": {},
   "outputs": [],
   "source": [
    "guage = df[\"gauge\"].to_numpy()\n",
    "day1 = guage[0::7]\n",
    "day2 = guage[1::7]\n",
    "day3 = guage[2::7]\n",
    "day4 = guage[3::7]\n",
    "day5 = guage[4::7]\n",
    "day6 = guage[5::7]\n",
    "day7 = guage[6::7]"
   ]
  },
  {
   "cell_type": "code",
   "execution_count": 4,
   "id": "f376b71f",
   "metadata": {},
   "outputs": [
    {
     "data": {
      "text/plain": [
       "False"
      ]
     },
     "execution_count": 4,
     "metadata": {},
     "output_type": "execute_result"
    }
   ],
   "source": [
    "len(day1) == len(day2) == len(day3) == len(day4) == len(day5) == len(day6) == len(day7)"
   ]
  },
  {
   "cell_type": "code",
   "execution_count": 5,
   "id": "313a3628",
   "metadata": {},
   "outputs": [
    {
     "name": "stdout",
     "output_type": "stream",
     "text": [
      "783\n",
      "783\n",
      "783\n",
      "782\n",
      "782\n",
      "782\n",
      "782\n"
     ]
    }
   ],
   "source": [
    "print(len(day1))\n",
    "print(len(day2))\n",
    "print(len(day3))\n",
    "print(len(day4))\n",
    "print(len(day5))\n",
    "print(len(day6))\n",
    "print(len(day7))"
   ]
  },
  {
   "cell_type": "code",
   "execution_count": 6,
   "id": "6480a508",
   "metadata": {},
   "outputs": [
    {
     "data": {
      "text/html": [
       "<div>\n",
       "<style scoped>\n",
       "    .dataframe tbody tr th:only-of-type {\n",
       "        vertical-align: middle;\n",
       "    }\n",
       "\n",
       "    .dataframe tbody tr th {\n",
       "        vertical-align: top;\n",
       "    }\n",
       "\n",
       "    .dataframe thead th {\n",
       "        text-align: right;\n",
       "    }\n",
       "</style>\n",
       "<table border=\"1\" class=\"dataframe\">\n",
       "  <thead>\n",
       "    <tr style=\"text-align: right;\">\n",
       "      <th></th>\n",
       "      <th>Unnamed: 0</th>\n",
       "      <th>date</th>\n",
       "      <th>stid</th>\n",
       "      <th>gauge</th>\n",
       "      <th>discharge</th>\n",
       "      <th>rainfall_inches</th>\n",
       "      <th>rainfall_ft</th>\n",
       "    </tr>\n",
       "  </thead>\n",
       "  <tbody>\n",
       "    <tr>\n",
       "      <th>5470</th>\n",
       "      <td>5470</td>\n",
       "      <td>2022-10-16</td>\n",
       "      <td>RA101</td>\n",
       "      <td>2.96</td>\n",
       "      <td>83.5</td>\n",
       "      <td>0.00</td>\n",
       "      <td>0.00</td>\n",
       "    </tr>\n",
       "    <tr>\n",
       "      <th>5471</th>\n",
       "      <td>5471</td>\n",
       "      <td>2022-10-17</td>\n",
       "      <td>RA101</td>\n",
       "      <td>3.35</td>\n",
       "      <td>153.0</td>\n",
       "      <td>0.22</td>\n",
       "      <td>0.02</td>\n",
       "    </tr>\n",
       "    <tr>\n",
       "      <th>5472</th>\n",
       "      <td>5472</td>\n",
       "      <td>2022-10-18</td>\n",
       "      <td>RA101</td>\n",
       "      <td>3.35</td>\n",
       "      <td>153.0</td>\n",
       "      <td>0.00</td>\n",
       "      <td>0.00</td>\n",
       "    </tr>\n",
       "    <tr>\n",
       "      <th>5473</th>\n",
       "      <td>5473</td>\n",
       "      <td>2022-10-19</td>\n",
       "      <td>RA101</td>\n",
       "      <td>2.92</td>\n",
       "      <td>77.7</td>\n",
       "      <td>0.00</td>\n",
       "      <td>0.00</td>\n",
       "    </tr>\n",
       "    <tr>\n",
       "      <th>5474</th>\n",
       "      <td>5474</td>\n",
       "      <td>2022-10-20</td>\n",
       "      <td>RA101</td>\n",
       "      <td>2.85</td>\n",
       "      <td>68.1</td>\n",
       "      <td>0.00</td>\n",
       "      <td>0.00</td>\n",
       "    </tr>\n",
       "    <tr>\n",
       "      <th>5475</th>\n",
       "      <td>5475</td>\n",
       "      <td>2022-10-21</td>\n",
       "      <td>RA101</td>\n",
       "      <td>2.77</td>\n",
       "      <td>57.9</td>\n",
       "      <td>0.00</td>\n",
       "      <td>0.00</td>\n",
       "    </tr>\n",
       "    <tr>\n",
       "      <th>5476</th>\n",
       "      <td>5476</td>\n",
       "      <td>2022-10-22</td>\n",
       "      <td>RA101</td>\n",
       "      <td>2.72</td>\n",
       "      <td>52.0</td>\n",
       "      <td>0.00</td>\n",
       "      <td>0.00</td>\n",
       "    </tr>\n",
       "  </tbody>\n",
       "</table>\n",
       "</div>"
      ],
      "text/plain": [
       "      Unnamed: 0        date   stid  gauge  discharge  rainfall_inches  \\\n",
       "5470        5470  2022-10-16  RA101   2.96       83.5             0.00   \n",
       "5471        5471  2022-10-17  RA101   3.35      153.0             0.22   \n",
       "5472        5472  2022-10-18  RA101   3.35      153.0             0.00   \n",
       "5473        5473  2022-10-19  RA101   2.92       77.7             0.00   \n",
       "5474        5474  2022-10-20  RA101   2.85       68.1             0.00   \n",
       "5475        5475  2022-10-21  RA101   2.77       57.9             0.00   \n",
       "5476        5476  2022-10-22  RA101   2.72       52.0             0.00   \n",
       "\n",
       "      rainfall_ft  \n",
       "5470         0.00  \n",
       "5471         0.02  \n",
       "5472         0.00  \n",
       "5473         0.00  \n",
       "5474         0.00  \n",
       "5475         0.00  \n",
       "5476         0.00  "
      ]
     },
     "execution_count": 6,
     "metadata": {},
     "output_type": "execute_result"
    }
   ],
   "source": [
    "df.tail(7)"
   ]
  },
  {
   "cell_type": "code",
   "execution_count": 7,
   "id": "70a262d9",
   "metadata": {
    "scrolled": true
   },
   "outputs": [
    {
     "data": {
      "text/html": [
       "<div>\n",
       "<style scoped>\n",
       "    .dataframe tbody tr th:only-of-type {\n",
       "        vertical-align: middle;\n",
       "    }\n",
       "\n",
       "    .dataframe tbody tr th {\n",
       "        vertical-align: top;\n",
       "    }\n",
       "\n",
       "    .dataframe thead th {\n",
       "        text-align: right;\n",
       "    }\n",
       "</style>\n",
       "<table border=\"1\" class=\"dataframe\">\n",
       "  <thead>\n",
       "    <tr style=\"text-align: right;\">\n",
       "      <th></th>\n",
       "      <th>Unnamed: 0</th>\n",
       "      <th>date</th>\n",
       "      <th>stid</th>\n",
       "      <th>gauge</th>\n",
       "      <th>discharge</th>\n",
       "      <th>rainfall_inches</th>\n",
       "      <th>rainfall_ft</th>\n",
       "    </tr>\n",
       "  </thead>\n",
       "  <tbody>\n",
       "    <tr>\n",
       "      <th>0</th>\n",
       "      <td>0</td>\n",
       "      <td>2007-10-01</td>\n",
       "      <td>RA101</td>\n",
       "      <td>2.40</td>\n",
       "      <td>23.9</td>\n",
       "      <td>0.0</td>\n",
       "      <td>0.0</td>\n",
       "    </tr>\n",
       "    <tr>\n",
       "      <th>1</th>\n",
       "      <td>1</td>\n",
       "      <td>2007-10-02</td>\n",
       "      <td>RA101</td>\n",
       "      <td>2.39</td>\n",
       "      <td>23.2</td>\n",
       "      <td>0.0</td>\n",
       "      <td>0.0</td>\n",
       "    </tr>\n",
       "    <tr>\n",
       "      <th>2</th>\n",
       "      <td>2</td>\n",
       "      <td>2007-10-03</td>\n",
       "      <td>RA101</td>\n",
       "      <td>2.39</td>\n",
       "      <td>23.2</td>\n",
       "      <td>0.0</td>\n",
       "      <td>0.0</td>\n",
       "    </tr>\n",
       "    <tr>\n",
       "      <th>3</th>\n",
       "      <td>3</td>\n",
       "      <td>2007-10-04</td>\n",
       "      <td>RA101</td>\n",
       "      <td>2.39</td>\n",
       "      <td>23.2</td>\n",
       "      <td>0.0</td>\n",
       "      <td>0.0</td>\n",
       "    </tr>\n",
       "    <tr>\n",
       "      <th>4</th>\n",
       "      <td>4</td>\n",
       "      <td>2007-10-05</td>\n",
       "      <td>RA101</td>\n",
       "      <td>2.42</td>\n",
       "      <td>25.2</td>\n",
       "      <td>0.0</td>\n",
       "      <td>0.0</td>\n",
       "    </tr>\n",
       "    <tr>\n",
       "      <th>5</th>\n",
       "      <td>5</td>\n",
       "      <td>2007-10-06</td>\n",
       "      <td>RA101</td>\n",
       "      <td>2.43</td>\n",
       "      <td>25.9</td>\n",
       "      <td>0.0</td>\n",
       "      <td>0.0</td>\n",
       "    </tr>\n",
       "    <tr>\n",
       "      <th>6</th>\n",
       "      <td>6</td>\n",
       "      <td>2007-10-07</td>\n",
       "      <td>RA101</td>\n",
       "      <td>2.43</td>\n",
       "      <td>25.9</td>\n",
       "      <td>0.0</td>\n",
       "      <td>0.0</td>\n",
       "    </tr>\n",
       "  </tbody>\n",
       "</table>\n",
       "</div>"
      ],
      "text/plain": [
       "   Unnamed: 0        date   stid  gauge  discharge  rainfall_inches  \\\n",
       "0           0  2007-10-01  RA101   2.40       23.9              0.0   \n",
       "1           1  2007-10-02  RA101   2.39       23.2              0.0   \n",
       "2           2  2007-10-03  RA101   2.39       23.2              0.0   \n",
       "3           3  2007-10-04  RA101   2.39       23.2              0.0   \n",
       "4           4  2007-10-05  RA101   2.42       25.2              0.0   \n",
       "5           5  2007-10-06  RA101   2.43       25.9              0.0   \n",
       "6           6  2007-10-07  RA101   2.43       25.9              0.0   \n",
       "\n",
       "   rainfall_ft  \n",
       "0          0.0  \n",
       "1          0.0  \n",
       "2          0.0  \n",
       "3          0.0  \n",
       "4          0.0  \n",
       "5          0.0  \n",
       "6          0.0  "
      ]
     },
     "execution_count": 7,
     "metadata": {},
     "output_type": "execute_result"
    }
   ],
   "source": [
    "df.head(7)"
   ]
  },
  {
   "cell_type": "code",
   "execution_count": 8,
   "id": "b559ff0f",
   "metadata": {},
   "outputs": [],
   "source": [
    "df = pd.read_csv(\"Data/Daily_Max_Vals.csv\")"
   ]
  },
  {
   "cell_type": "code",
   "execution_count": 9,
   "id": "bbc88fbe",
   "metadata": {},
   "outputs": [
    {
     "data": {
      "text/plain": [
       "782.0"
      ]
     },
     "execution_count": 9,
     "metadata": {},
     "output_type": "execute_result"
    }
   ],
   "source": [
    "(len(df)-3)/7"
   ]
  },
  {
   "cell_type": "code",
   "execution_count": 10,
   "id": "7ca33b54",
   "metadata": {},
   "outputs": [],
   "source": [
    "df = df[3:len(df)]"
   ]
  },
  {
   "cell_type": "code",
   "execution_count": 11,
   "id": "ca39476c",
   "metadata": {},
   "outputs": [
    {
     "data": {
      "text/html": [
       "<div>\n",
       "<style scoped>\n",
       "    .dataframe tbody tr th:only-of-type {\n",
       "        vertical-align: middle;\n",
       "    }\n",
       "\n",
       "    .dataframe tbody tr th {\n",
       "        vertical-align: top;\n",
       "    }\n",
       "\n",
       "    .dataframe thead th {\n",
       "        text-align: right;\n",
       "    }\n",
       "</style>\n",
       "<table border=\"1\" class=\"dataframe\">\n",
       "  <thead>\n",
       "    <tr style=\"text-align: right;\">\n",
       "      <th></th>\n",
       "      <th>Unnamed: 0</th>\n",
       "      <th>date</th>\n",
       "      <th>stid</th>\n",
       "      <th>gauge</th>\n",
       "      <th>discharge</th>\n",
       "      <th>rainfall_inches</th>\n",
       "      <th>rainfall_ft</th>\n",
       "    </tr>\n",
       "  </thead>\n",
       "  <tbody>\n",
       "    <tr>\n",
       "      <th>3</th>\n",
       "      <td>3</td>\n",
       "      <td>2007-10-04</td>\n",
       "      <td>RA101</td>\n",
       "      <td>2.39</td>\n",
       "      <td>23.2</td>\n",
       "      <td>0.0</td>\n",
       "      <td>0.0</td>\n",
       "    </tr>\n",
       "  </tbody>\n",
       "</table>\n",
       "</div>"
      ],
      "text/plain": [
       "   Unnamed: 0        date   stid  gauge  discharge  rainfall_inches  \\\n",
       "3           3  2007-10-04  RA101   2.39       23.2              0.0   \n",
       "\n",
       "   rainfall_ft  \n",
       "3          0.0  "
      ]
     },
     "execution_count": 11,
     "metadata": {},
     "output_type": "execute_result"
    }
   ],
   "source": [
    "df.head(1)"
   ]
  },
  {
   "cell_type": "code",
   "execution_count": 12,
   "id": "a0c17140",
   "metadata": {},
   "outputs": [
    {
     "data": {
      "text/plain": [
       "True"
      ]
     },
     "execution_count": 12,
     "metadata": {},
     "output_type": "execute_result"
    }
   ],
   "source": [
    "guage = df[\"gauge\"].to_numpy()\n",
    "day1 = guage[0::7]\n",
    "day2 = guage[1::7]\n",
    "day3 = guage[2::7]\n",
    "day4 = guage[3::7]\n",
    "day5 = guage[4::7]\n",
    "day6 = guage[5::7]\n",
    "day7 = guage[6::7]\n",
    "len(day1) == len(day2) == len(day3) == len(day4) == len(day5) == len(day6) == len(day7)"
   ]
  },
  {
   "cell_type": "code",
   "execution_count": 13,
   "id": "96d907cf",
   "metadata": {},
   "outputs": [
    {
     "name": "stdout",
     "output_type": "stream",
     "text": [
      "782\n",
      "782\n",
      "782\n",
      "782\n",
      "782\n",
      "782\n",
      "782\n"
     ]
    }
   ],
   "source": [
    "print(len(day1))\n",
    "print(len(day2))\n",
    "print(len(day3))\n",
    "print(len(day4))\n",
    "print(len(day5))\n",
    "print(len(day6))\n",
    "print(len(day7))"
   ]
  },
  {
   "cell_type": "code",
   "execution_count": 14,
   "id": "f7fc6b81",
   "metadata": {},
   "outputs": [
    {
     "data": {
      "text/plain": [
       "781.5714285714286"
      ]
     },
     "execution_count": 14,
     "metadata": {},
     "output_type": "execute_result"
    }
   ],
   "source": [
    "rainfall = df[\"rainfall_ft\"].to_numpy()[3:]\n",
    "len(rainfall)/7 #to see if the length matches with the amount we have for our days "
   ]
  },
  {
   "cell_type": "code",
   "execution_count": 15,
   "id": "6b334cd9",
   "metadata": {},
   "outputs": [],
   "source": [
    "rainfall_ft_weekly_mean = []"
   ]
  },
  {
   "cell_type": "code",
   "execution_count": 16,
   "id": "8cdb829e",
   "metadata": {},
   "outputs": [],
   "source": [
    "for i in range(0,len(rainfall),7):\n",
    "    rainfall_ft_weekly_mean.append((rainfall[i:i+6].sum())/7)"
   ]
  },
  {
   "cell_type": "code",
   "execution_count": 17,
   "id": "fb91fe82",
   "metadata": {},
   "outputs": [
    {
     "data": {
      "text/plain": [
       "782"
      ]
     },
     "execution_count": 17,
     "metadata": {},
     "output_type": "execute_result"
    }
   ],
   "source": [
    "len(rainfall_ft_weekly_mean)"
   ]
  },
  {
   "cell_type": "code",
   "execution_count": 18,
   "id": "de367536",
   "metadata": {},
   "outputs": [
    {
     "name": "stdout",
     "output_type": "stream",
     "text": [
      "782\n"
     ]
    }
   ],
   "source": [
    "next_day_guage = day1[1:]\n",
    "next_day_guage = np.append(next_day_guage, 0)\n",
    "print(len(next_day_guage))"
   ]
  },
  {
   "cell_type": "code",
   "execution_count": 19,
   "id": "db064a7b",
   "metadata": {},
   "outputs": [],
   "source": [
    "weekly_data = {\n",
    "    \"Day1\" : day1,\n",
    "    \"Day2\" : day2,\n",
    "    \"Day3\" : day3,\n",
    "    \"Day4\" : day4,\n",
    "    \"Day5\" : day5,\n",
    "    \"Day6\" : day6,\n",
    "    \"Day7\" : day7,\n",
    "    \"rainfall_ft_mean\" : rainfall_ft_weekly_mean,\n",
    "    \"next_day_guage\" : next_day_guage\n",
    "}"
   ]
  },
  {
   "cell_type": "code",
   "execution_count": 20,
   "id": "12bfdff1",
   "metadata": {},
   "outputs": [
    {
     "data": {
      "text/html": [
       "<div>\n",
       "<style scoped>\n",
       "    .dataframe tbody tr th:only-of-type {\n",
       "        vertical-align: middle;\n",
       "    }\n",
       "\n",
       "    .dataframe tbody tr th {\n",
       "        vertical-align: top;\n",
       "    }\n",
       "\n",
       "    .dataframe thead th {\n",
       "        text-align: right;\n",
       "    }\n",
       "</style>\n",
       "<table border=\"1\" class=\"dataframe\">\n",
       "  <thead>\n",
       "    <tr style=\"text-align: right;\">\n",
       "      <th></th>\n",
       "      <th>Day1</th>\n",
       "      <th>Day2</th>\n",
       "      <th>Day3</th>\n",
       "      <th>Day4</th>\n",
       "      <th>Day5</th>\n",
       "      <th>Day6</th>\n",
       "      <th>Day7</th>\n",
       "      <th>rainfall_ft_mean</th>\n",
       "      <th>next_day_guage</th>\n",
       "    </tr>\n",
       "  </thead>\n",
       "  <tbody>\n",
       "    <tr>\n",
       "      <th>0</th>\n",
       "      <td>2.39</td>\n",
       "      <td>2.42</td>\n",
       "      <td>2.43</td>\n",
       "      <td>2.43</td>\n",
       "      <td>2.43</td>\n",
       "      <td>3.48</td>\n",
       "      <td>4.08</td>\n",
       "      <td>0.002857</td>\n",
       "      <td>3.02</td>\n",
       "    </tr>\n",
       "    <tr>\n",
       "      <th>1</th>\n",
       "      <td>3.02</td>\n",
       "      <td>2.86</td>\n",
       "      <td>2.69</td>\n",
       "      <td>2.72</td>\n",
       "      <td>2.69</td>\n",
       "      <td>2.67</td>\n",
       "      <td>2.64</td>\n",
       "      <td>0.002857</td>\n",
       "      <td>2.61</td>\n",
       "    </tr>\n",
       "    <tr>\n",
       "      <th>2</th>\n",
       "      <td>2.61</td>\n",
       "      <td>3.27</td>\n",
       "      <td>3.33</td>\n",
       "      <td>2.70</td>\n",
       "      <td>2.64</td>\n",
       "      <td>2.59</td>\n",
       "      <td>2.68</td>\n",
       "      <td>0.005714</td>\n",
       "      <td>3.07</td>\n",
       "    </tr>\n",
       "    <tr>\n",
       "      <th>3</th>\n",
       "      <td>3.07</td>\n",
       "      <td>3.36</td>\n",
       "      <td>6.56</td>\n",
       "      <td>4.43</td>\n",
       "      <td>3.49</td>\n",
       "      <td>3.18</td>\n",
       "      <td>3.01</td>\n",
       "      <td>0.000000</td>\n",
       "      <td>2.89</td>\n",
       "    </tr>\n",
       "    <tr>\n",
       "      <th>4</th>\n",
       "      <td>2.89</td>\n",
       "      <td>2.81</td>\n",
       "      <td>2.76</td>\n",
       "      <td>2.71</td>\n",
       "      <td>2.69</td>\n",
       "      <td>2.89</td>\n",
       "      <td>2.77</td>\n",
       "      <td>0.001429</td>\n",
       "      <td>2.66</td>\n",
       "    </tr>\n",
       "  </tbody>\n",
       "</table>\n",
       "</div>"
      ],
      "text/plain": [
       "   Day1  Day2  Day3  Day4  Day5  Day6  Day7  rainfall_ft_mean  next_day_guage\n",
       "0  2.39  2.42  2.43  2.43  2.43  3.48  4.08          0.002857            3.02\n",
       "1  3.02  2.86  2.69  2.72  2.69  2.67  2.64          0.002857            2.61\n",
       "2  2.61  3.27  3.33  2.70  2.64  2.59  2.68          0.005714            3.07\n",
       "3  3.07  3.36  6.56  4.43  3.49  3.18  3.01          0.000000            2.89\n",
       "4  2.89  2.81  2.76  2.71  2.69  2.89  2.77          0.001429            2.66"
      ]
     },
     "execution_count": 20,
     "metadata": {},
     "output_type": "execute_result"
    }
   ],
   "source": [
    "weekly_data = pd.DataFrame(weekly_data)\n",
    "weekly_data.head()"
   ]
  },
  {
   "cell_type": "code",
   "execution_count": 21,
   "id": "2edd848f",
   "metadata": {},
   "outputs": [],
   "source": [
    "weekly_data.to_csv('Data/Gauge_Windows.csv')"
   ]
  }
 ],
 "metadata": {
  "kernelspec": {
   "display_name": "Python 3 (ipykernel)",
   "language": "python",
   "name": "python3"
  },
  "language_info": {
   "codemirror_mode": {
    "name": "ipython",
    "version": 3
   },
   "file_extension": ".py",
   "mimetype": "text/x-python",
   "name": "python",
   "nbconvert_exporter": "python",
   "pygments_lexer": "ipython3",
   "version": "3.9.13"
  }
 },
 "nbformat": 4,
 "nbformat_minor": 5
}
