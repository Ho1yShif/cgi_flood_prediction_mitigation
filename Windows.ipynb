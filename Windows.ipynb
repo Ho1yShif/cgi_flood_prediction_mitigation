{
 "cells": [
  {
   "cell_type": "markdown",
   "metadata": {},
   "source": [
    "# Rolling Window Regression\n",
    "**Gauge Units**: **feet**\n",
    "\n",
    "**Goals**\n",
    "- Target column: Predict next gauge level\n",
    "- Independent variables: 7 gauge levels for each day of that week, either rainfall/discharge average avg or max of that week"
   ]
  },
  {
   "cell_type": "markdown",
   "metadata": {
    "tags": []
   },
   "source": [
    "### Resources\n",
    "- [R Article](https://medium.com/making-sense-of-data/time-series-next-value-prediction-using-regression-over-a-rolling-window-228f0acae363)\n",
    "- [Python Article](https://www.statsmodels.org/dev/examples/notebooks/generated/rolling_ls.html)\n",
    "- [Rolling OLS Docs](https://www.statsmodels.org/dev/generated/statsmodels.regression.rolling.RollingOLS.html)\n",
    "- [Stackoverflow](https://stackoverflow.com/questions/68320086/puzzles-with-rolling-windows-for-statsmodels-rollingols)"
   ]
  },
  {
   "cell_type": "markdown",
   "metadata": {},
   "source": [
    "**Procedure**\n",
    "- Data Manipulation– get the df we need!\n",
    "- Run all linear regressions, random forest, XGB, polynomial if we have time\n",
    "- Model evaluation and comparison"
   ]
  },
  {
   "cell_type": "code",
   "execution_count": 12,
   "metadata": {},
   "outputs": [
    {
     "name": "stdout",
     "output_type": "stream",
     "text": [
      "Collecting git+https://github.com/statsmodels/statsmodels.git\n",
      "  Cloning https://github.com/statsmodels/statsmodels.git to /private/var/folders/9n/cydgwsgx6h32_js3qd22zk1m0000gn/T/pip-req-build-40ta9jmg\n",
      "  Running command git clone --filter=blob:none --quiet https://github.com/statsmodels/statsmodels.git /private/var/folders/9n/cydgwsgx6h32_js3qd22zk1m0000gn/T/pip-req-build-40ta9jmg\n",
      "  Resolved https://github.com/statsmodels/statsmodels.git to commit 46116c493697b5456e960b1dc2932264703b6c59\n",
      "  Installing build dependencies ... \u001b[?25ldone\n",
      "\u001b[?25h  Getting requirements to build wheel ... \u001b[?25ldone\n",
      "\u001b[?25h  Installing backend dependencies ... \u001b[?25ldone\n",
      "\u001b[?25h  Preparing metadata (pyproject.toml) ... \u001b[?25ldone\n",
      "\u001b[?25hRequirement already satisfied: packaging>=21.3 in /Users/shifraisaacs/opt/anaconda3/lib/python3.8/site-packages (from statsmodels==0.14.0.dev598+g46116c493) (21.3)\n",
      "Requirement already satisfied: pandas>=1.0 in /Users/shifraisaacs/opt/anaconda3/lib/python3.8/site-packages (from statsmodels==0.14.0.dev598+g46116c493) (1.4.3)\n",
      "Requirement already satisfied: numpy>=1.18 in /Users/shifraisaacs/opt/anaconda3/lib/python3.8/site-packages (from statsmodels==0.14.0.dev598+g46116c493) (1.21.5)\n",
      "Requirement already satisfied: patsy>=0.5.2 in /Users/shifraisaacs/opt/anaconda3/lib/python3.8/site-packages (from statsmodels==0.14.0.dev598+g46116c493) (0.5.2)\n",
      "Requirement already satisfied: scipy!=1.9.2,>=1.4 in /Users/shifraisaacs/opt/anaconda3/lib/python3.8/site-packages (from statsmodels==0.14.0.dev598+g46116c493) (1.7.3)\n",
      "Requirement already satisfied: pyparsing!=3.0.5,>=2.0.2 in /Users/shifraisaacs/opt/anaconda3/lib/python3.8/site-packages (from packaging>=21.3->statsmodels==0.14.0.dev598+g46116c493) (3.0.9)\n",
      "Requirement already satisfied: python-dateutil>=2.8.1 in /Users/shifraisaacs/opt/anaconda3/lib/python3.8/site-packages (from pandas>=1.0->statsmodels==0.14.0.dev598+g46116c493) (2.8.2)\n",
      "Requirement already satisfied: pytz>=2020.1 in /Users/shifraisaacs/opt/anaconda3/lib/python3.8/site-packages (from pandas>=1.0->statsmodels==0.14.0.dev598+g46116c493) (2022.1)\n",
      "Requirement already satisfied: six in /Users/shifraisaacs/opt/anaconda3/lib/python3.8/site-packages (from patsy>=0.5.2->statsmodels==0.14.0.dev598+g46116c493) (1.16.0)\n",
      "Building wheels for collected packages: statsmodels\n",
      "  Building wheel for statsmodels (pyproject.toml) ... \u001b[?25ldone\n",
      "\u001b[?25h  Created wheel for statsmodels: filename=statsmodels-0.14.0.dev598+g46116c493-cp38-cp38-macosx_10_9_x86_64.whl size=9815538 sha256=ddcbbd8fd13bac4f2f1f03e55a149e87d9edb8abdeb8250b61cdf1b061081a4f\n",
      "  Stored in directory: /private/var/folders/9n/cydgwsgx6h32_js3qd22zk1m0000gn/T/pip-ephem-wheel-cache-yik4e7zr/wheels/ff/9d/8b/25017c3788fad916fdf1c1e49baed1b228c539e84909f38b5e\n",
      "Successfully built statsmodels\n",
      "Installing collected packages: statsmodels\n",
      "  Attempting uninstall: statsmodels\n",
      "    Found existing installation: statsmodels 0.13.2\n",
      "    Uninstalling statsmodels-0.13.2:\n",
      "      Successfully uninstalled statsmodels-0.13.2\n",
      "\u001b[31mERROR: pip's dependency resolver does not currently take into account all the packages that are installed. This behaviour is the source of the following dependency conflicts.\n",
      "pandas-profiling 3.4.0 requires statsmodels<0.14,>=0.13.2, but you have statsmodels 0.14.0.dev598+g46116c493 which is incompatible.\u001b[0m\u001b[31m\n",
      "\u001b[0mSuccessfully installed statsmodels-0.14.0.dev598+g46116c493\n"
     ]
    }
   ],
   "source": [
    "! pip install git+https://github.com/statsmodels/statsmodels.git --upgrade"
   ]
  },
  {
   "cell_type": "markdown",
   "metadata": {},
   "source": [
    "### NEED TO GET THIS IMPORT WORKING"
   ]
  },
  {
   "cell_type": "code",
   "execution_count": 17,
   "metadata": {},
   "outputs": [
    {
     "ename": "ModuleNotFoundError",
     "evalue": "No module named 'statsmodels.regression.rolling.RollingOLS'; 'statsmodels.regression.rolling' is not a package",
     "output_type": "error",
     "traceback": [
      "\u001b[0;31m---------------------------------------------------------------------------\u001b[0m",
      "\u001b[0;31mModuleNotFoundError\u001b[0m                       Traceback (most recent call last)",
      "Input \u001b[0;32mIn [17]\u001b[0m, in \u001b[0;36m<cell line: 2>\u001b[0;34m()\u001b[0m\n\u001b[1;32m      1\u001b[0m \u001b[38;5;28;01mimport\u001b[39;00m \u001b[38;5;21;01mstatsmodels\u001b[39;00m \u001b[38;5;28;01mas\u001b[39;00m \u001b[38;5;21;01msm\u001b[39;00m\n\u001b[0;32m----> 2\u001b[0m \u001b[38;5;28;01mimport\u001b[39;00m \u001b[38;5;21;01mstatsmodels\u001b[39;00m\u001b[38;5;21;01m.\u001b[39;00m\u001b[38;5;21;01mregression\u001b[39;00m\u001b[38;5;21;01m.\u001b[39;00m\u001b[38;5;21;01mrolling\u001b[39;00m\u001b[38;5;21;01m.\u001b[39;00m\u001b[38;5;21;01mRollingOLS\u001b[39;00m \u001b[38;5;28;01mas\u001b[39;00m \u001b[38;5;21;01mRollingOLS\u001b[39;00m\n",
      "\u001b[0;31mModuleNotFoundError\u001b[0m: No module named 'statsmodels.regression.rolling.RollingOLS'; 'statsmodels.regression.rolling' is not a package"
     ]
    }
   ],
   "source": [
    "import statsmodels as sm\n",
    "import statsmodels.regression.rolling.RollingOLS as RollingOLS"
   ]
  },
  {
   "cell_type": "code",
   "execution_count": 16,
   "metadata": {
    "_kg_hide-input": true,
    "papermill": {
     "duration": 1.085397,
     "end_time": "2021-03-06T00:22:12.045008",
     "exception": false,
     "start_time": "2021-03-06T00:22:10.959611",
     "status": "completed"
    },
    "tags": []
   },
   "outputs": [],
   "source": [
    "import numpy as np # linear algebra\n",
    "import pandas as pd # data processing, CSV file I/O (e.g. pd.read_csv)\n",
    "\n",
    "import seaborn as sns # Visualization\n",
    "import matplotlib as mpl\n",
    "import matplotlib.pyplot as plt # Visualization\n",
    "%matplotlib inline\n",
    "mpl.rcParams['figure.dpi'] = 150\n",
    "\n",
    "from sklearn.metrics import mean_absolute_error, mean_squared_error, mean_squared_log_error, r2_score\n",
    "from sklearn.model_selection import train_test_split\n",
    "\n",
    "import math\n",
    "\n",
    "import warnings # Supress warnings \n",
    "warnings.filterwarnings('ignore')\n",
    "\n",
    "from datetime import date\n",
    "\n",
    "np.random.seed(0)\n",
    "sns.set()"
   ]
  },
  {
   "cell_type": "code",
   "execution_count": 6,
   "metadata": {
    "_kg_hide-output": true,
    "papermill": {
     "duration": 0.115605,
     "end_time": "2021-03-06T00:22:12.665259",
     "exception": false,
     "start_time": "2021-03-06T00:22:12.549654",
     "status": "completed"
    },
    "tags": []
   },
   "outputs": [
    {
     "data": {
      "text/html": [
       "<div>\n",
       "<style scoped>\n",
       "    .dataframe tbody tr th:only-of-type {\n",
       "        vertical-align: middle;\n",
       "    }\n",
       "\n",
       "    .dataframe tbody tr th {\n",
       "        vertical-align: top;\n",
       "    }\n",
       "\n",
       "    .dataframe thead th {\n",
       "        text-align: right;\n",
       "    }\n",
       "</style>\n",
       "<table border=\"1\" class=\"dataframe\">\n",
       "  <thead>\n",
       "    <tr style=\"text-align: right;\">\n",
       "      <th></th>\n",
       "      <th>date</th>\n",
       "      <th>stid</th>\n",
       "      <th>gauge</th>\n",
       "      <th>discharge</th>\n",
       "      <th>rainfall_inches</th>\n",
       "      <th>rainfall_ft</th>\n",
       "    </tr>\n",
       "  </thead>\n",
       "  <tbody>\n",
       "    <tr>\n",
       "      <th>0</th>\n",
       "      <td>2007-10-01</td>\n",
       "      <td>RA101</td>\n",
       "      <td>2.40</td>\n",
       "      <td>23.9</td>\n",
       "      <td>0.0</td>\n",
       "      <td>0.0</td>\n",
       "    </tr>\n",
       "    <tr>\n",
       "      <th>1</th>\n",
       "      <td>2007-10-02</td>\n",
       "      <td>RA101</td>\n",
       "      <td>2.39</td>\n",
       "      <td>23.2</td>\n",
       "      <td>0.0</td>\n",
       "      <td>0.0</td>\n",
       "    </tr>\n",
       "    <tr>\n",
       "      <th>2</th>\n",
       "      <td>2007-10-03</td>\n",
       "      <td>RA101</td>\n",
       "      <td>2.39</td>\n",
       "      <td>23.2</td>\n",
       "      <td>0.0</td>\n",
       "      <td>0.0</td>\n",
       "    </tr>\n",
       "    <tr>\n",
       "      <th>3</th>\n",
       "      <td>2007-10-04</td>\n",
       "      <td>RA101</td>\n",
       "      <td>2.39</td>\n",
       "      <td>23.2</td>\n",
       "      <td>0.0</td>\n",
       "      <td>0.0</td>\n",
       "    </tr>\n",
       "    <tr>\n",
       "      <th>4</th>\n",
       "      <td>2007-10-05</td>\n",
       "      <td>RA101</td>\n",
       "      <td>2.42</td>\n",
       "      <td>25.2</td>\n",
       "      <td>0.0</td>\n",
       "      <td>0.0</td>\n",
       "    </tr>\n",
       "  </tbody>\n",
       "</table>\n",
       "</div>"
      ],
      "text/plain": [
       "         date   stid  gauge  discharge  rainfall_inches  rainfall_ft\n",
       "0  2007-10-01  RA101   2.40       23.9              0.0          0.0\n",
       "1  2007-10-02  RA101   2.39       23.2              0.0          0.0\n",
       "2  2007-10-03  RA101   2.39       23.2              0.0          0.0\n",
       "3  2007-10-04  RA101   2.39       23.2              0.0          0.0\n",
       "4  2007-10-05  RA101   2.42       25.2              0.0          0.0"
      ]
     },
     "execution_count": 6,
     "metadata": {},
     "output_type": "execute_result"
    }
   ],
   "source": [
    "levels = pd.read_csv(\"Data/Daily_Max_Vals.csv\", index_col=0)\n",
    "levels.head()"
   ]
  },
  {
   "cell_type": "code",
   "execution_count": 7,
   "metadata": {},
   "outputs": [
    {
     "data": {
      "text/html": [
       "<div>\n",
       "<style scoped>\n",
       "    .dataframe tbody tr th:only-of-type {\n",
       "        vertical-align: middle;\n",
       "    }\n",
       "\n",
       "    .dataframe tbody tr th {\n",
       "        vertical-align: top;\n",
       "    }\n",
       "\n",
       "    .dataframe thead th {\n",
       "        text-align: right;\n",
       "    }\n",
       "</style>\n",
       "<table border=\"1\" class=\"dataframe\">\n",
       "  <thead>\n",
       "    <tr style=\"text-align: right;\">\n",
       "      <th></th>\n",
       "      <th>gauge</th>\n",
       "      <th>discharge</th>\n",
       "      <th>rainfall_inches</th>\n",
       "      <th>rainfall_ft</th>\n",
       "    </tr>\n",
       "  </thead>\n",
       "  <tbody>\n",
       "    <tr>\n",
       "      <th>gauge</th>\n",
       "      <td>1.000000</td>\n",
       "      <td>0.964503</td>\n",
       "      <td>0.526547</td>\n",
       "      <td>0.519915</td>\n",
       "    </tr>\n",
       "    <tr>\n",
       "      <th>discharge</th>\n",
       "      <td>0.964503</td>\n",
       "      <td>1.000000</td>\n",
       "      <td>0.508548</td>\n",
       "      <td>0.502007</td>\n",
       "    </tr>\n",
       "    <tr>\n",
       "      <th>rainfall_inches</th>\n",
       "      <td>0.526547</td>\n",
       "      <td>0.508548</td>\n",
       "      <td>1.000000</td>\n",
       "      <td>0.987850</td>\n",
       "    </tr>\n",
       "    <tr>\n",
       "      <th>rainfall_ft</th>\n",
       "      <td>0.519915</td>\n",
       "      <td>0.502007</td>\n",
       "      <td>0.987850</td>\n",
       "      <td>1.000000</td>\n",
       "    </tr>\n",
       "  </tbody>\n",
       "</table>\n",
       "</div>"
      ],
      "text/plain": [
       "                    gauge  discharge  rainfall_inches  rainfall_ft\n",
       "gauge            1.000000   0.964503         0.526547     0.519915\n",
       "discharge        0.964503   1.000000         0.508548     0.502007\n",
       "rainfall_inches  0.526547   0.508548         1.000000     0.987850\n",
       "rainfall_ft      0.519915   0.502007         0.987850     1.000000"
      ]
     },
     "execution_count": 7,
     "metadata": {},
     "output_type": "execute_result"
    }
   ],
   "source": [
    "levels.corr()"
   ]
  },
  {
   "cell_type": "markdown",
   "metadata": {},
   "source": [
    "### Since discharge is highly correlated with gauge, we'll choose **rainfall_ft** as our secondary predictor variable"
   ]
  },
  {
   "cell_type": "markdown",
   "metadata": {},
   "source": [
    "## Rolling Window Reg"
   ]
  },
  {
   "cell_type": "code",
   "execution_count": null,
   "metadata": {},
   "outputs": [],
   "source": []
  },
  {
   "cell_type": "code",
   "execution_count": null,
   "metadata": {},
   "outputs": [],
   "source": []
  }
 ],
 "metadata": {
  "kernelspec": {
   "display_name": "Python 3 (ipykernel)",
   "language": "python",
   "name": "python3"
  },
  "language_info": {
   "codemirror_mode": {
    "name": "ipython",
    "version": 3
   },
   "file_extension": ".py",
   "mimetype": "text/x-python",
   "name": "python",
   "nbconvert_exporter": "python",
   "pygments_lexer": "ipython3",
   "version": "3.8.13"
  },
  "papermill": {
   "default_parameters": {},
   "duration": 99.003821,
   "end_time": "2021-03-06T00:23:44.654890",
   "environment_variables": {},
   "exception": null,
   "input_path": "__notebook__.ipynb",
   "output_path": "__notebook__.ipynb",
   "parameters": {},
   "start_time": "2021-03-06T00:22:05.651069",
   "version": "2.2.2"
  }
 },
 "nbformat": 4,
 "nbformat_minor": 4
}
