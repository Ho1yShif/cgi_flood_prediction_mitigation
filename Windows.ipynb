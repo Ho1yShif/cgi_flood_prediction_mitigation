{
 "cells": [
  {
   "cell_type": "markdown",
   "metadata": {},
   "source": [
    "# Rolling Window Regression\n",
    "**Gauge Units**: **feet**\n",
    "\n",
    "**Goals**\n",
    "- Target column: Predict next gauge level\n",
    "- Independent variables: 7 gauge levels for each day of that week, either rainfall/discharge average avg or max of that week"
   ]
  },
  {
   "cell_type": "markdown",
   "metadata": {
    "tags": []
   },
   "source": [
    "### Resources\n",
    "- [R Article](https://medium.com/making-sense-of-data/time-series-next-value-prediction-using-regression-over-a-rolling-window-228f0acae363)\n",
    "- [Python Article](https://www.statsmodels.org/dev/examples/notebooks/generated/rolling_ls.html)\n",
    "- [Rolling OLS Docs](https://www.statsmodels.org/dev/generated/statsmodels.regression.rolling.RollingOLS.html)\n",
    "- [Stackoverflow](https://stackoverflow.com/questions/68320086/puzzles-with-rolling-windows-for-statsmodels-rollingols)"
   ]
  },
  {
   "cell_type": "markdown",
   "metadata": {},
   "source": [
    "**Procedure**\n",
    "- Data Manipulation– get the df we need!\n",
    "- Run all linear regressions, random forest, XGB, polynomial if we have time\n",
    "- Model evaluation and comparison"
   ]
  },
  {
   "cell_type": "code",
   "execution_count": 1,
   "metadata": {},
   "outputs": [
    {
     "name": "stdout",
     "output_type": "stream",
     "text": [
      "Collecting git+https://github.com/statsmodels/statsmodels.git\n",
      "  Cloning https://github.com/statsmodels/statsmodels.git to /private/var/folders/23/9yyjjc7d5qzgg1rk2yt_yhwc0000gn/T/pip-req-build-e99cxtzb\n",
      "  Running command git clone -q https://github.com/statsmodels/statsmodels.git /private/var/folders/23/9yyjjc7d5qzgg1rk2yt_yhwc0000gn/T/pip-req-build-e99cxtzb\n",
      "  Resolved https://github.com/statsmodels/statsmodels.git to commit 46116c493697b5456e960b1dc2932264703b6c59\n",
      "  Installing build dependencies ... \u001b[?25ldone\n",
      "\u001b[?25h  Getting requirements to build wheel ... \u001b[?25ldone\n",
      "\u001b[?25h  Installing backend dependencies ... \u001b[?25ldone\n",
      "\u001b[?25h    Preparing wheel metadata ... \u001b[?25ldone\n",
      "\u001b[?25hRequirement already satisfied: scipy!=1.9.2,>=1.4 in /Users/topusaha/opt/anaconda3/lib/python3.9/site-packages (from statsmodels==0.14.0.dev598+g46116c493) (1.7.3)\n",
      "Requirement already satisfied: patsy>=0.5.2 in /Users/topusaha/opt/anaconda3/lib/python3.9/site-packages (from statsmodels==0.14.0.dev598+g46116c493) (0.5.2)\n",
      "Requirement already satisfied: pandas>=1.0 in /Users/topusaha/opt/anaconda3/lib/python3.9/site-packages (from statsmodels==0.14.0.dev598+g46116c493) (1.4.2)\n",
      "Requirement already satisfied: packaging>=21.3 in /Users/topusaha/opt/anaconda3/lib/python3.9/site-packages (from statsmodels==0.14.0.dev598+g46116c493) (21.3)\n",
      "Requirement already satisfied: numpy>=1.18 in /Users/topusaha/opt/anaconda3/lib/python3.9/site-packages (from statsmodels==0.14.0.dev598+g46116c493) (1.21.5)\n",
      "Requirement already satisfied: pyparsing!=3.0.5,>=2.0.2 in /Users/topusaha/opt/anaconda3/lib/python3.9/site-packages (from packaging>=21.3->statsmodels==0.14.0.dev598+g46116c493) (3.0.4)\n",
      "Requirement already satisfied: python-dateutil>=2.8.1 in /Users/topusaha/opt/anaconda3/lib/python3.9/site-packages (from pandas>=1.0->statsmodels==0.14.0.dev598+g46116c493) (2.8.2)\n",
      "Requirement already satisfied: pytz>=2020.1 in /Users/topusaha/opt/anaconda3/lib/python3.9/site-packages (from pandas>=1.0->statsmodels==0.14.0.dev598+g46116c493) (2021.3)\n",
      "Requirement already satisfied: six in /Users/topusaha/opt/anaconda3/lib/python3.9/site-packages (from patsy>=0.5.2->statsmodels==0.14.0.dev598+g46116c493) (1.16.0)\n",
      "Building wheels for collected packages: statsmodels\n",
      "  Building wheel for statsmodels (PEP 517) ... \u001b[?25ldone\n",
      "\u001b[?25h  Created wheel for statsmodels: filename=statsmodels-0.14.0.dev598+g46116c493-cp39-cp39-macosx_10_9_x86_64.whl size=9559390 sha256=96fe4faf3d8fc27b6c7f450aa4e5d6dce6901ea5c219eef22cab6e2e7a80b85f\n",
      "  Stored in directory: /private/var/folders/23/9yyjjc7d5qzgg1rk2yt_yhwc0000gn/T/pip-ephem-wheel-cache-6005hrwd/wheels/cc/d6/9f/4d3ade8342cbc407399331257c3e77fcc62ddb5f116a89e94c\n",
      "Successfully built statsmodels\n",
      "Installing collected packages: statsmodels\n",
      "  Attempting uninstall: statsmodels\n",
      "    Found existing installation: statsmodels 0.13.2\n",
      "    Uninstalling statsmodels-0.13.2:\n",
      "      Successfully uninstalled statsmodels-0.13.2\n",
      "Successfully installed statsmodels-0.14.0.dev598+g46116c493\n"
     ]
    }
   ],
   "source": [
    "! pip install git+https://github.com/statsmodels/statsmodels.git --upgrade"
   ]
  },
  {
   "cell_type": "code",
   "execution_count": 4,
   "metadata": {},
   "outputs": [
    {
     "name": "stdout",
     "output_type": "stream",
     "text": [
      "Collecting statsmodels\n",
      "  Downloading statsmodels-0.13.5-cp310-cp310-macosx_11_0_arm64.whl (9.2 MB)\n",
      "\u001b[2K     \u001b[90m━━━━━━━━━━━━━━━━━━━━━━━━━━━━━━━━━━━━━━━━\u001b[0m \u001b[32m9.2/9.2 MB\u001b[0m \u001b[31m17.6 MB/s\u001b[0m eta \u001b[36m0:00:00\u001b[0m00:01\u001b[0m00:01\u001b[0m\n",
      "\u001b[?25hCollecting scipy>=1.3\n",
      "  Downloading scipy-1.9.3-cp310-cp310-macosx_12_0_arm64.whl (28.5 MB)\n",
      "\u001b[2K     \u001b[90m━━━━━━━━━━━━━━━━━━━━━━━━━━━━━━━━━━━━━━━━\u001b[0m \u001b[32m28.5/28.5 MB\u001b[0m \u001b[31m15.7 MB/s\u001b[0m eta \u001b[36m0:00:00\u001b[0m00:01\u001b[0m00:01\u001b[0m\n",
      "\u001b[?25hRequirement already satisfied: packaging>=21.3 in /Users/topusaha/Library/Python/3.10/lib/python/site-packages (from statsmodels) (21.3)\n",
      "Requirement already satisfied: pandas>=0.25 in /opt/homebrew/lib/python3.10/site-packages (from statsmodels) (1.5.1)\n",
      "Requirement already satisfied: numpy>=1.17 in /opt/homebrew/lib/python3.10/site-packages (from statsmodels) (1.23.4)\n",
      "Collecting patsy>=0.5.2\n",
      "  Downloading patsy-0.5.3-py2.py3-none-any.whl (233 kB)\n",
      "\u001b[2K     \u001b[90m━━━━━━━━━━━━━━━━━━━━━━━━━━━━━━━━━━━━━━━\u001b[0m \u001b[32m233.8/233.8 kB\u001b[0m \u001b[31m7.0 MB/s\u001b[0m eta \u001b[36m0:00:00\u001b[0m\n",
      "\u001b[?25hRequirement already satisfied: pyparsing!=3.0.5,>=2.0.2 in /Users/topusaha/Library/Python/3.10/lib/python/site-packages (from packaging>=21.3->statsmodels) (3.0.9)\n",
      "Requirement already satisfied: python-dateutil>=2.8.1 in /Users/topusaha/Library/Python/3.10/lib/python/site-packages (from pandas>=0.25->statsmodels) (2.8.2)\n",
      "Requirement already satisfied: pytz>=2020.1 in /opt/homebrew/lib/python3.10/site-packages (from pandas>=0.25->statsmodels) (2022.6)\n",
      "Requirement already satisfied: six in /Users/topusaha/Library/Python/3.10/lib/python/site-packages (from patsy>=0.5.2->statsmodels) (1.16.0)\n",
      "Installing collected packages: scipy, patsy, statsmodels\n",
      "Successfully installed patsy-0.5.3 scipy-1.9.3 statsmodels-0.13.5\n",
      "\n",
      "\u001b[1m[\u001b[0m\u001b[34;49mnotice\u001b[0m\u001b[1;39;49m]\u001b[0m\u001b[39;49m A new release of pip available: \u001b[0m\u001b[31;49m22.2.2\u001b[0m\u001b[39;49m -> \u001b[0m\u001b[32;49m22.3.1\u001b[0m\n",
      "\u001b[1m[\u001b[0m\u001b[34;49mnotice\u001b[0m\u001b[1;39;49m]\u001b[0m\u001b[39;49m To update, run: \u001b[0m\u001b[32;49mpython3.10 -m pip install --upgrade pip\u001b[0m\n",
      "Note: you may need to restart the kernel to use updated packages.\n"
     ]
    }
   ],
   "source": [
    "pip install statsmodels\n"
   ]
  },
  {
   "cell_type": "markdown",
   "metadata": {},
   "source": [
    "### NEED TO GET THIS IMPORT WORKING"
   ]
  },
  {
   "cell_type": "code",
   "execution_count": 3,
   "metadata": {},
   "outputs": [
    {
     "ename": "ModuleNotFoundError",
     "evalue": "No module named 'statsmodels'",
     "output_type": "error",
     "traceback": [
      "\u001b[0;31m---------------------------------------------------------------------------\u001b[0m",
      "\u001b[0;31mModuleNotFoundError\u001b[0m                       Traceback (most recent call last)",
      "Cell \u001b[0;32mIn [3], line 1\u001b[0m\n\u001b[0;32m----> 1\u001b[0m \u001b[39mimport\u001b[39;00m \u001b[39mstatsmodels\u001b[39;00m\u001b[39m.\u001b[39;00m\u001b[39mapi\u001b[39;00m \u001b[39mas\u001b[39;00m \u001b[39msm\u001b[39;00m\n\u001b[1;32m      2\u001b[0m \u001b[39mimport\u001b[39;00m \u001b[39mstatsmodels\u001b[39;00m\u001b[39m.\u001b[39;00m\u001b[39mregression\u001b[39;00m\u001b[39m.\u001b[39;00m\u001b[39mrolling\u001b[39;00m\u001b[39m.\u001b[39;00m\u001b[39mRollingOLS\u001b[39;00m \u001b[39mas\u001b[39;00m \u001b[39mRollingOLS\u001b[39;00m\n",
      "\u001b[0;31mModuleNotFoundError\u001b[0m: No module named 'statsmodels'"
     ]
    }
   ],
   "source": [
    "import statsmodels.api as sm\n",
    "import statsmodels.regression.rolling.RollingOLS as RollingOLS"
   ]
  },
  {
   "cell_type": "code",
   "execution_count": 16,
   "metadata": {
    "_kg_hide-input": true,
    "papermill": {
     "duration": 1.085397,
     "end_time": "2021-03-06T00:22:12.045008",
     "exception": false,
     "start_time": "2021-03-06T00:22:10.959611",
     "status": "completed"
    },
    "tags": []
   },
   "outputs": [],
   "source": [
    "import numpy as np # linear algebra\n",
    "import pandas as pd # data processing, CSV file I/O (e.g. pd.read_csv)\n",
    "\n",
    "import seaborn as sns # Visualization\n",
    "import matplotlib as mpl\n",
    "import matplotlib.pyplot as plt # Visualization\n",
    "%matplotlib inline\n",
    "mpl.rcParams['figure.dpi'] = 150\n",
    "\n",
    "from sklearn.metrics import mean_absolute_error, mean_squared_error, mean_squared_log_error, r2_score\n",
    "from sklearn.model_selection import train_test_split\n",
    "\n",
    "import math\n",
    "\n",
    "import warnings # Supress warnings \n",
    "warnings.filterwarnings('ignore')\n",
    "\n",
    "from datetime import date\n",
    "\n",
    "np.random.seed(0)\n",
    "sns.set()"
   ]
  },
  {
   "cell_type": "code",
   "execution_count": 6,
   "metadata": {
    "_kg_hide-output": true,
    "papermill": {
     "duration": 0.115605,
     "end_time": "2021-03-06T00:22:12.665259",
     "exception": false,
     "start_time": "2021-03-06T00:22:12.549654",
     "status": "completed"
    },
    "tags": []
   },
   "outputs": [
    {
     "data": {
      "text/html": [
       "<div>\n",
       "<style scoped>\n",
       "    .dataframe tbody tr th:only-of-type {\n",
       "        vertical-align: middle;\n",
       "    }\n",
       "\n",
       "    .dataframe tbody tr th {\n",
       "        vertical-align: top;\n",
       "    }\n",
       "\n",
       "    .dataframe thead th {\n",
       "        text-align: right;\n",
       "    }\n",
       "</style>\n",
       "<table border=\"1\" class=\"dataframe\">\n",
       "  <thead>\n",
       "    <tr style=\"text-align: right;\">\n",
       "      <th></th>\n",
       "      <th>date</th>\n",
       "      <th>stid</th>\n",
       "      <th>gauge</th>\n",
       "      <th>discharge</th>\n",
       "      <th>rainfall_inches</th>\n",
       "      <th>rainfall_ft</th>\n",
       "    </tr>\n",
       "  </thead>\n",
       "  <tbody>\n",
       "    <tr>\n",
       "      <th>0</th>\n",
       "      <td>2007-10-01</td>\n",
       "      <td>RA101</td>\n",
       "      <td>2.40</td>\n",
       "      <td>23.9</td>\n",
       "      <td>0.0</td>\n",
       "      <td>0.0</td>\n",
       "    </tr>\n",
       "    <tr>\n",
       "      <th>1</th>\n",
       "      <td>2007-10-02</td>\n",
       "      <td>RA101</td>\n",
       "      <td>2.39</td>\n",
       "      <td>23.2</td>\n",
       "      <td>0.0</td>\n",
       "      <td>0.0</td>\n",
       "    </tr>\n",
       "    <tr>\n",
       "      <th>2</th>\n",
       "      <td>2007-10-03</td>\n",
       "      <td>RA101</td>\n",
       "      <td>2.39</td>\n",
       "      <td>23.2</td>\n",
       "      <td>0.0</td>\n",
       "      <td>0.0</td>\n",
       "    </tr>\n",
       "    <tr>\n",
       "      <th>3</th>\n",
       "      <td>2007-10-04</td>\n",
       "      <td>RA101</td>\n",
       "      <td>2.39</td>\n",
       "      <td>23.2</td>\n",
       "      <td>0.0</td>\n",
       "      <td>0.0</td>\n",
       "    </tr>\n",
       "    <tr>\n",
       "      <th>4</th>\n",
       "      <td>2007-10-05</td>\n",
       "      <td>RA101</td>\n",
       "      <td>2.42</td>\n",
       "      <td>25.2</td>\n",
       "      <td>0.0</td>\n",
       "      <td>0.0</td>\n",
       "    </tr>\n",
       "  </tbody>\n",
       "</table>\n",
       "</div>"
      ],
      "text/plain": [
       "         date   stid  gauge  discharge  rainfall_inches  rainfall_ft\n",
       "0  2007-10-01  RA101   2.40       23.9              0.0          0.0\n",
       "1  2007-10-02  RA101   2.39       23.2              0.0          0.0\n",
       "2  2007-10-03  RA101   2.39       23.2              0.0          0.0\n",
       "3  2007-10-04  RA101   2.39       23.2              0.0          0.0\n",
       "4  2007-10-05  RA101   2.42       25.2              0.0          0.0"
      ]
     },
     "execution_count": 6,
     "metadata": {},
     "output_type": "execute_result"
    }
   ],
   "source": [
    "levels = pd.read_csv(\"Data/Daily_Max_Vals.csv\", index_col=0)\n",
    "levels.head()"
   ]
  },
  {
   "cell_type": "code",
   "execution_count": 7,
   "metadata": {},
   "outputs": [
    {
     "data": {
      "text/html": [
       "<div>\n",
       "<style scoped>\n",
       "    .dataframe tbody tr th:only-of-type {\n",
       "        vertical-align: middle;\n",
       "    }\n",
       "\n",
       "    .dataframe tbody tr th {\n",
       "        vertical-align: top;\n",
       "    }\n",
       "\n",
       "    .dataframe thead th {\n",
       "        text-align: right;\n",
       "    }\n",
       "</style>\n",
       "<table border=\"1\" class=\"dataframe\">\n",
       "  <thead>\n",
       "    <tr style=\"text-align: right;\">\n",
       "      <th></th>\n",
       "      <th>gauge</th>\n",
       "      <th>discharge</th>\n",
       "      <th>rainfall_inches</th>\n",
       "      <th>rainfall_ft</th>\n",
       "    </tr>\n",
       "  </thead>\n",
       "  <tbody>\n",
       "    <tr>\n",
       "      <th>gauge</th>\n",
       "      <td>1.000000</td>\n",
       "      <td>0.964503</td>\n",
       "      <td>0.526547</td>\n",
       "      <td>0.519915</td>\n",
       "    </tr>\n",
       "    <tr>\n",
       "      <th>discharge</th>\n",
       "      <td>0.964503</td>\n",
       "      <td>1.000000</td>\n",
       "      <td>0.508548</td>\n",
       "      <td>0.502007</td>\n",
       "    </tr>\n",
       "    <tr>\n",
       "      <th>rainfall_inches</th>\n",
       "      <td>0.526547</td>\n",
       "      <td>0.508548</td>\n",
       "      <td>1.000000</td>\n",
       "      <td>0.987850</td>\n",
       "    </tr>\n",
       "    <tr>\n",
       "      <th>rainfall_ft</th>\n",
       "      <td>0.519915</td>\n",
       "      <td>0.502007</td>\n",
       "      <td>0.987850</td>\n",
       "      <td>1.000000</td>\n",
       "    </tr>\n",
       "  </tbody>\n",
       "</table>\n",
       "</div>"
      ],
      "text/plain": [
       "                    gauge  discharge  rainfall_inches  rainfall_ft\n",
       "gauge            1.000000   0.964503         0.526547     0.519915\n",
       "discharge        0.964503   1.000000         0.508548     0.502007\n",
       "rainfall_inches  0.526547   0.508548         1.000000     0.987850\n",
       "rainfall_ft      0.519915   0.502007         0.987850     1.000000"
      ]
     },
     "execution_count": 7,
     "metadata": {},
     "output_type": "execute_result"
    }
   ],
   "source": [
    "levels.corr()"
   ]
  },
  {
   "cell_type": "markdown",
   "metadata": {},
   "source": [
    "### Since discharge is highly correlated with gauge, we'll choose **rainfall_ft** as our secondary predictor variable"
   ]
  },
  {
   "cell_type": "markdown",
   "metadata": {},
   "source": [
    "## Rolling Window Reg"
   ]
  },
  {
   "cell_type": "code",
   "execution_count": null,
   "metadata": {},
   "outputs": [],
   "source": []
  },
  {
   "cell_type": "code",
   "execution_count": null,
   "metadata": {},
   "outputs": [],
   "source": []
  }
 ],
 "metadata": {
  "kernelspec": {
   "display_name": "Python 3.10.6 64-bit",
   "language": "python",
   "name": "python3"
  },
  "language_info": {
   "codemirror_mode": {
    "name": "ipython",
    "version": 3
   },
   "file_extension": ".py",
   "mimetype": "text/x-python",
   "name": "python",
   "nbconvert_exporter": "python",
   "pygments_lexer": "ipython3",
   "version": "3.10.6"
  },
  "papermill": {
   "default_parameters": {},
   "duration": 99.003821,
   "end_time": "2021-03-06T00:23:44.654890",
   "environment_variables": {},
   "exception": null,
   "input_path": "__notebook__.ipynb",
   "output_path": "__notebook__.ipynb",
   "parameters": {},
   "start_time": "2021-03-06T00:22:05.651069",
   "version": "2.2.2"
  },
  "vscode": {
   "interpreter": {
    "hash": "b0fa6594d8f4cbf19f97940f81e996739fb7646882a419484c72d19e05852a7e"
   }
  }
 },
 "nbformat": 4,
 "nbformat_minor": 4
}
