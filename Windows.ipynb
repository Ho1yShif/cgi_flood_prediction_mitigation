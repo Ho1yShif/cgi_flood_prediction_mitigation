{
 "cells": [
  {
   "cell_type": "markdown",
   "metadata": {},
   "source": [
    "# Rolling Window Regression\n",
    "**Gauge Units**: **feet**\n",
    "\n",
    "**Goals**\n",
    "- Target column: Predict next gauge level\n",
    "- Independent variables: 7 gauge levels for each day of that week, either rainfall/discharge average avg or max of that week"
   ]
  },
  {
   "cell_type": "markdown",
   "metadata": {
    "tags": []
   },
   "source": [
    "### Resources\n",
    "- [R Article](https://medium.com/making-sense-of-data/time-series-next-value-prediction-using-regression-over-a-rolling-window-228f0acae363)\n",
    "- [Python Article](https://www.statsmodels.org/dev/examples/notebooks/generated/rolling_ls.html)\n",
    "- [Rolling OLS Docs](https://www.statsmodels.org/dev/generated/statsmodels.regression.rolling.RollingOLS.html)\n",
    "- [Stackoverflow](https://stackoverflow.com/questions/68320086/puzzles-with-rolling-windows-for-statsmodels-rollingols)"
   ]
  },
  {
   "cell_type": "markdown",
   "metadata": {},
   "source": [
    "**Procedure**\n",
    "- Data Manipulation– get the df we need!\n",
    "- Run all linear regressions, random forest, XGB, polynomial if we have time\n",
    "- Model evaluation and comparison"
   ]
  },
  {
   "cell_type": "code",
   "execution_count": null,
   "metadata": {},
   "outputs": [],
   "source": [
    "! pip install git+https://github.com/statsmodels/statsmodels.git --upgrade"
   ]
  },
  {
   "cell_type": "markdown",
   "metadata": {},
   "source": [
    "## Install using PIP you might not have to so try running the code block below first"
   ]
  },
  {
   "cell_type": "code",
   "execution_count": null,
   "metadata": {},
   "outputs": [],
   "source": [
    "pip install statsmodels\n"
   ]
  },
  {
   "cell_type": "markdown",
   "metadata": {},
   "source": [
    "## Rewording some of the imports "
   ]
  },
  {
   "cell_type": "code",
   "execution_count": null,
   "metadata": {},
   "outputs": [],
   "source": [
    "import statsmodels.api as sm\n",
    "from statsmodels.regression.rolling import RollingOLS"
   ]
  },
  {
   "cell_type": "markdown",
   "metadata": {},
   "source": [
    "### NEED TO GET THIS IMPORT WORKING"
   ]
  },
  {
   "cell_type": "code",
   "execution_count": null,
   "metadata": {},
   "outputs": [],
   "source": [
    "import statsmodels as sm\n",
    "from statsmodels.regression.rolling.RollingOLS import RollingOLS"
   ]
  },
  {
   "cell_type": "code",
   "execution_count": null,
   "metadata": {
    "_kg_hide-input": true,
    "papermill": {
     "duration": 1.085397,
     "end_time": "2021-03-06T00:22:12.045008",
     "exception": false,
     "start_time": "2021-03-06T00:22:10.959611",
     "status": "completed"
    },
    "tags": []
   },
   "outputs": [],
   "source": [
    "import numpy as np # linear algebra\n",
    "import pandas as pd # data processing, CSV file I/O (e.g. pd.read_csv)\n",
    "\n",
    "import seaborn as sns # Visualization\n",
    "import matplotlib as mpl\n",
    "import matplotlib.pyplot as plt # Visualization\n",
    "%matplotlib inline\n",
    "mpl.rcParams['figure.dpi'] = 150\n",
    "\n",
    "from sklearn.metrics import mean_absolute_error, mean_squared_error, mean_squared_log_error, r2_score\n",
    "from sklearn.model_selection import train_test_split\n",
    "\n",
    "import math\n",
    "\n",
    "import warnings # Supress warnings \n",
    "warnings.filterwarnings('ignore')\n",
    "\n",
    "from datetime import date\n",
    "\n",
    "np.random.seed(0)\n",
    "sns.set()"
   ]
  },
  {
   "cell_type": "code",
   "execution_count": null,
   "metadata": {
    "_kg_hide-output": true,
    "papermill": {
     "duration": 0.115605,
     "end_time": "2021-03-06T00:22:12.665259",
     "exception": false,
     "start_time": "2021-03-06T00:22:12.549654",
     "status": "completed"
    },
    "tags": []
   },
   "outputs": [],
   "source": [
    "levels = pd.read_csv(\"Data/Daily_Max_Vals.csv\", index_col=0)\n",
    "levels.head()"
   ]
  },
  {
   "cell_type": "code",
   "execution_count": null,
   "metadata": {},
   "outputs": [],
   "source": [
    "levels.corr()"
   ]
  },
  {
   "cell_type": "markdown",
   "metadata": {},
   "source": [
    "### Since discharge is highly correlated with gauge, we'll choose **rainfall_ft** as our secondary predictor variable"
   ]
  },
  {
   "cell_type": "markdown",
   "metadata": {},
   "source": [
    "## Rolling Window Reg"
   ]
  },
  {
   "cell_type": "code",
   "execution_count": null,
   "metadata": {},
   "outputs": [],
   "source": []
  },
  {
   "cell_type": "code",
   "execution_count": null,
   "metadata": {},
   "outputs": [],
   "source": []
  }
 ],
 "metadata": {
  "kernelspec": {
   "display_name": "Python 3.10.6 64-bit",
   "language": "python",
   "name": "python3"
  },
  "language_info": {
   "codemirror_mode": {
    "name": "ipython",
    "version": 3
   },
   "file_extension": ".py",
   "mimetype": "text/x-python",
   "name": "python",
   "nbconvert_exporter": "python",
   "pygments_lexer": "ipython3",
   "version": "3.10.6"
  },
  "papermill": {
   "default_parameters": {},
   "duration": 99.003821,
   "end_time": "2021-03-06T00:23:44.654890",
   "environment_variables": {},
   "exception": null,
   "input_path": "__notebook__.ipynb",
   "output_path": "__notebook__.ipynb",
   "parameters": {},
   "start_time": "2021-03-06T00:22:05.651069",
   "version": "2.2.2"
  },
  "vscode": {
   "interpreter": {
    "hash": "b0fa6594d8f4cbf19f97940f81e996739fb7646882a419484c72d19e05852a7e"
   }
  }
 },
 "nbformat": 4,
 "nbformat_minor": 4
}
